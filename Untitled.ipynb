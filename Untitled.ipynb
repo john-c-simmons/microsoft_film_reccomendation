{
 "cells": [
  {
   "cell_type": "code",
   "execution_count": 1,
   "id": "aad6f51f",
   "metadata": {
    "ExecuteTime": {
     "end_time": "2021-06-08T16:11:49.641176Z",
     "start_time": "2021-06-08T16:11:25.968190Z"
    }
   },
   "outputs": [
    {
     "name": "stdout",
     "output_type": "stream",
     "text": [
      "imdb_title_principals table created successfully....\n",
      "imdb_name_basic table created successfully....\n",
      "imdb_title_crew table created successfully....\n",
      "imdb_title_ratings table created successfully....\n",
      "imdb_title_basics table created successfully....\n",
      "imdb_title_akas table created successfully....\n",
      "tn_movie_budgets table created successfully....\n",
      "tmdb_movies table created successfully....\n",
      "bom_movie_gross table created successfully....\n",
      "rotten_tomatoes_critic_reviews table created successfully....\n",
      "rotten_tomatoes_movies table created successfully....\n",
      "=========================================================\n",
      "Inserting data into the imdb_title_crew table....\n",
      "Inserting data into the tmdb_movies table....\n",
      "Inserting data into the imdb_title_akas table....\n",
      "Inserting data into the imdb_title_ratings table....\n",
      "Inserting data into the imdb_name_basics table....\n",
      "Inserting data into the rotten_tomatoes_movies table....\n",
      "Inserting data into the rotten_tomatoes_critic_reviews table....\n",
      "Inserting data into the imdb_title_basics table....\n",
      "Inserting data into the tn_movie_budgets table....\n",
      "Inserting data into the bom_movie_gross table....\n",
      "Inserting data into the imdb_title_principals table....\n",
      "=========================================================\n",
      "Database created successfully!\n",
      "To connect to the database: open a connection using the path \"data/movies.db\"\n"
     ]
    }
   ],
   "source": [
    "import os\n",
    "import sqlite3\n",
    "import pandas as pd\n",
    "import numpy as np\n",
    "import matplotlib.pyplot as plt\n",
    "import requests\n",
    "from bs4 import BeautifulSoup\n",
    "from IPython.display import display, Markdown\n",
    "import seaborn as sns\n",
    "from src.make_db import create_movies_db\n",
    "\n",
    "create_movies_db()\n",
    "con = sqlite3.connect('data/movies.db')"
   ]
  },
  {
   "cell_type": "code",
   "execution_count": 212,
   "id": "33b1fd69",
   "metadata": {
    "ExecuteTime": {
     "end_time": "2021-06-08T21:50:52.952064Z",
     "start_time": "2021-06-08T21:50:52.462696Z"
    }
   },
   "outputs": [],
   "source": [
    "df = pd.read_sql(\"select * from tn_movie_budgets;\", con)\n",
    "df['production_budget'] = df['production_budget'].str.replace(',', '', regex = True)\n",
    "df['production_budget'] = df['production_budget'].str.replace('$', '', regex = True).astype(int)\n",
    "df['domestic_gross'] = df['domestic_gross'].str.replace(',', '', regex = True)\n",
    "df['domestic_gross'] = df['domestic_gross'].str.replace('$', '', regex = True).astype(int)\n",
    "df['worldwide_gross'] = df['worldwide_gross'].str.replace(',', '', regex = True)\n",
    "df['worldwide_gross'] = df['worldwide_gross'].str.replace('$', '', regex = True).astype(int)\n",
    "df.release_date = pd.to_datetime(df.release_date)\n",
    "df['logged_budget'] = np.log(df['production_budget'])\n",
    "df['total_gross'] = df['worldwide_gross'] + df['domestic_gross'] \n",
    "df['net_profit'] = df['total_gross'] - df['production_budget']\n",
    "df['return_on_investment'] = df['total_gross'] / df['production_budget']\n",
    "df = df[(df['release_date'] >= '2010-01-01') & (df['release_date'] <= '2020-01-01')]\n",
    "month = df['release_date'].apply(lambda x: x.month)\n",
    "df['date_month'] = month"
   ]
  },
  {
   "cell_type": "code",
   "execution_count": 213,
   "id": "b3c60b5d",
   "metadata": {
    "ExecuteTime": {
     "end_time": "2021-06-08T21:50:52.968906Z",
     "start_time": "2021-06-08T21:50:52.955015Z"
    }
   },
   "outputs": [],
   "source": [
    "df.groupby('production_budget')\n",
    "\n",
    "bud_bins = pd.cut(df['production_budget'], [1000000, 5000000, 10000000, 15000000, 20000000, 50000000, 100000000, 200000000, 400000000])\n",
    "grouped_bins =  df.groupby(bud_bins)['production_budget'].agg(['count'])\n",
    "\n"
   ]
  },
  {
   "cell_type": "code",
   "execution_count": 214,
   "id": "7f701bd7",
   "metadata": {
    "ExecuteTime": {
     "end_time": "2021-06-08T21:50:53.042903Z",
     "start_time": "2021-06-08T21:50:53.039880Z"
    }
   },
   "outputs": [],
   "source": [
    "df['budget_bins'] = bud_bins"
   ]
  },
  {
   "cell_type": "code",
   "execution_count": 215,
   "id": "582ad833",
   "metadata": {
    "ExecuteTime": {
     "end_time": "2021-06-08T21:50:53.821185Z",
     "start_time": "2021-06-08T21:50:53.816101Z"
    }
   },
   "outputs": [],
   "source": [
    "bins = df.budget_bins.unique()[1:]"
   ]
  },
  {
   "cell_type": "code",
   "execution_count": 216,
   "id": "97ade9f1",
   "metadata": {
    "ExecuteTime": {
     "end_time": "2021-06-08T21:50:54.064667Z",
     "start_time": "2021-06-08T21:50:54.058258Z"
    }
   },
   "outputs": [
    {
     "data": {
      "text/plain": [
       "390"
      ]
     },
     "execution_count": 216,
     "metadata": {},
     "output_type": "execute_result"
    }
   ],
   "source": [
    "grouped_bins.loc[bin_]['count']"
   ]
  },
  {
   "cell_type": "code",
   "execution_count": 211,
   "id": "9381bc10",
   "metadata": {
    "ExecuteTime": {
     "end_time": "2021-06-08T21:50:41.778951Z",
     "start_time": "2021-06-08T21:50:41.756237Z"
    }
   },
   "outputs": [],
   "source": [
    "probabilities = {}\n",
    "for bin_ in bins:\n",
    "    frame = df[(df.budget_bins == bin_) & (df.return_on_investment >= 10)]\n",
    "    total_in_budget_bin = grouped_bins.loc[bin_]['count']\n",
    "    number_with_high_ri = frame.shape[0]\n",
    "    probability = number_with_high_ri/total_in_budget_bin\n",
    "    probabilities[bin_] = probability\n",
    "probabilities = dict(sorted(probabilities.items(), key=lambda x: x[0]))"
   ]
  },
  {
   "cell_type": "code",
   "execution_count": 208,
   "id": "d6751303",
   "metadata": {
    "ExecuteTime": {
     "end_time": "2021-06-08T21:41:44.107806Z",
     "start_time": "2021-06-08T21:41:44.103396Z"
    }
   },
   "outputs": [
    {
     "data": {
      "text/plain": [
       "{Interval(1000000, 5000000, closed='right'): 0.15128205128205127,\n",
       " Interval(5000000, 10000000, closed='right'): 0.11538461538461539,\n",
       " Interval(10000000, 15000000, closed='right'): 0.16279069767441862,\n",
       " Interval(15000000, 20000000, closed='right'): 0.11242603550295859,\n",
       " Interval(20000000, 50000000, closed='right'): 0.04938271604938271,\n",
       " Interval(50000000, 100000000, closed='right'): 0.07327586206896551,\n",
       " Interval(100000000, 200000000, closed='right'): 0.03535353535353535,\n",
       " Interval(200000000, 400000000, closed='right'): 0.03571428571428571}"
      ]
     },
     "execution_count": 208,
     "metadata": {},
     "output_type": "execute_result"
    }
   ],
   "source": [
    "probabilities"
   ]
  },
  {
   "cell_type": "code",
   "execution_count": 210,
   "id": "2c5c7ca8",
   "metadata": {
    "ExecuteTime": {
     "end_time": "2021-06-08T21:41:57.496612Z",
     "start_time": "2021-06-08T21:41:57.320647Z"
    }
   },
   "outputs": [
    {
     "data": {
      "text/plain": [
       "Text(0, 0.5, 'probability that a film recoups its production and marketing budget')"
      ]
     },
     "execution_count": 210,
     "metadata": {},
     "output_type": "execute_result"
    },
    {
     "data": {
      "image/png": "[encoded data removed]",
      "text/plain": [
       "<Figure size 1080x432 with 1 Axes>"
      ]
     },
     "metadata": {
      "needs_background": "light"
     },
     "output_type": "display_data"
    }
   ],
   "source": [
    "fig, ax = plt.subplots(figsize=(15,6))\n",
    "ax.bar([f'{_.left}\\nto\\n{_.right}' for _ in probabilities], probabilities.values(), color='dodgerblue', alpha=.8)\n",
    "ax.set_xlabel('budget in dollars')\n",
    "ax.set_ylabel('probability that a film recoups its production and marketing budget')"
   ]
  },
  {
   "cell_type": "code",
   "execution_count": null,
   "id": "b96af781",
   "metadata": {},
   "outputs": [],
   "source": []
  }
 ],
 "metadata": {
  "kernelspec": {
   "display_name": "learn-env",
   "language": "python",
   "name": "learn-env"
  },
  "language_info": {
   "codemirror_mode": {
    "name": "ipython",
    "version": 3
   },
   "file_extension": ".py",
   "mimetype": "text/x-python",
   "name": "python",
   "nbconvert_exporter": "python",
   "pygments_lexer": "ipython3",
   "version": "3.8.5"
  }
 },
 "nbformat": 4,
 "nbformat_minor": 5
}
