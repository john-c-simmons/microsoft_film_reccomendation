{
 "cells": [
  {
   "cell_type": "markdown",
   "metadata": {},
   "source": [
    "# Purpose\n",
    "\n",
    "Students have the option of using Pandas and SQL to complete this project. A Phase 1 project done completely in pandas, completely in SQL, or a mixture of the two can all be considered a fine Phase 1 project. This notebook serves as a resource for setting up an SQL database for students who wish to use SQL in their Phase 1 project.\n",
    "\n",
    "**To create the `movies.db` database, run the code cells below.**\n",
    "> The Entity Relational Diagram is below"
   ]
  },
  {
   "cell_type": "code",
   "execution_count": 66,
   "metadata": {},
   "outputs": [],
   "source": [
    "import pandas as pd\n",
    "import sqlite3 \n",
    "conn = sqlite3.connect('data/movies.db')\n",
    "cur = conn.cursor()\n",
    "import seaborn as sns\n",
    "import matplotlib.pyplot as plt"
   ]
  },
  {
   "cell_type": "code",
   "execution_count": 2,
   "metadata": {
    "ExecuteTime": {
     "end_time": "2020-12-17T21:22:46.674739Z",
     "start_time": "2020-12-17T21:22:46.344841Z"
    }
   },
   "outputs": [],
   "source": [
    "from src.make_db import create_movies_db"
   ]
  },
  {
   "cell_type": "code",
   "execution_count": 3,
   "metadata": {
    "ExecuteTime": {
     "end_time": "2020-12-17T21:23:10.522663Z",
     "start_time": "2020-12-17T21:22:47.047708Z"
    },
    "scrolled": true
   },
   "outputs": [
    {
     "name": "stdout",
     "output_type": "stream",
     "text": [
      "imdb_title_principals table created successfully....\n",
      "imdb_name_basic table created successfully....\n",
      "imdb_title_crew table created successfully....\n",
      "imdb_title_ratings table created successfully....\n",
      "imdb_title_basics table created successfully....\n",
      "imdb_title_akas table created successfully....\n",
      "tn_movie_budgets table created successfully....\n",
      "tmdb_movies table created successfully....\n",
      "bom_movie_gross table created successfully....\n",
      "rotten_tomatoes_critic_reviews table created successfully....\n",
      "rotten_tomatoes_movies table created successfully....\n",
      "=========================================================\n",
      "Inserting data into the imdb_title_crew table....\n",
      "Inserting data into the tmdb_movies table....\n",
      "Inserting data into the imdb_title_akas table....\n",
      "Inserting data into the imdb_title_ratings table....\n",
      "Inserting data into the imdb_name_basics table....\n",
      "Inserting data into the rotten_tomatoes_movies table....\n",
      "Inserting data into the rotten_tomatoes_critic_reviews table....\n",
      "Inserting data into the imdb_title_basics table....\n",
      "Inserting data into the tn_movie_budgets table....\n",
      "Inserting data into the bom_movie_gross table....\n",
      "Inserting data into the imdb_title_principals table....\n",
      "=========================================================\n",
      "Database created successfully!\n",
      "To connect to the database: open a connection using the path \"data\\movies.db\"\n"
     ]
    }
   ],
   "source": [
    "create_movies_db()"
   ]
  },
  {
   "cell_type": "markdown",
   "metadata": {},
   "source": [
    "![movies.db schema](images/movies_db_schema.png)"
   ]
  },
  {
   "cell_type": "code",
   "execution_count": 86,
   "metadata": {},
   "outputs": [],
   "source": [
    "# rtom = pd.read_sql('''SELECT * \n",
    "#                 FROM rotten_tomatoes_movies\n",
    "#                 ;''', conn)\n",
    "# rtom.info(10)\n",
    "#rotten_tomatoes_movies has 17,712 obs in 23 cols\n",
    "\n",
    "# tn_budgets = pd.read_sql('''SELECT *\n",
    "#                  FROM tn_movie_budgets\n",
    "#                  ;''', conn)\n",
    "# tn_budgets.info()\n",
    "#tn_budgets has 5,782 obs in 7 columns"
   ]
  },
  {
   "cell_type": "code",
   "execution_count": 194,
   "metadata": {},
   "outputs": [
    {
     "name": "stdout",
     "output_type": "stream",
     "text": [
      "<class 'pandas.core.frame.DataFrame'>\n",
      "RangeIndex: 146144 entries, 0 to 146143\n",
      "Data columns (total 7 columns):\n",
      " #   Column           Non-Null Count   Dtype  \n",
      "---  ------           --------------   -----  \n",
      " 0   idx              146144 non-null  int64  \n",
      " 1   tconst           146144 non-null  object \n",
      " 2   primary_title    146144 non-null  object \n",
      " 3   original_title   146123 non-null  object \n",
      " 4   start_year       146144 non-null  int64  \n",
      " 5   runtime_minutes  114405 non-null  float64\n",
      " 6   genres           140736 non-null  object \n",
      "dtypes: float64(1), int64(2), object(4)\n",
      "memory usage: 7.8+ MB\n"
     ]
    }
   ],
   "source": [
    "imdb = pd.read_sql('''SELECT *\n",
    "                FROM imdb_title_basics\n",
    "                ;''', conn)\n",
    "imdb.info()\n",
    "#146,144 entries in 7 cols"
   ]
  },
  {
   "cell_type": "code",
   "execution_count": 182,
   "metadata": {},
   "outputs": [],
   "source": [
    "# bom = pd.read_sql('''SELECT *\n",
    "#                 FROM bom_movie_gross\n",
    "#                 ;''', conn)\n",
    "# bom.info()\n",
    "#3387 entries in 6 cols"
   ]
  },
  {
   "cell_type": "code",
   "execution_count": 183,
   "metadata": {},
   "outputs": [],
   "source": [
    "# imdb_title = pd.read_sql('''SELECT *\n",
    "#                 FROM imdb_title_ratings\n",
    "#                 ;''', conn)\n",
    "# imdb_title.info()\n",
    "#73,856 entries in 4 cols"
   ]
  },
  {
   "cell_type": "code",
   "execution_count": 184,
   "metadata": {},
   "outputs": [],
   "source": [
    "# tmdb = pd.read_sql('''SELECT *\n",
    "#                  FROM tmdb_movies\n",
    "#                  ;''', conn)\n",
    "# tmdb.info()\n",
    "#tmdb_movies has 26,517 rows in 10 columns"
   ]
  },
  {
   "cell_type": "markdown",
   "metadata": {},
   "source": [
    "### testing formatting a date"
   ]
  },
  {
   "cell_type": "code",
   "execution_count": 185,
   "metadata": {},
   "outputs": [],
   "source": [
    "#converts string date to formatted dates\n",
    "tmdb.release_date = pd.to_datetime(tmdb.release_date)"
   ]
  },
  {
   "cell_type": "code",
   "execution_count": 195,
   "metadata": {},
   "outputs": [
    {
     "data": {
      "text/html": [
       "<div>\n",
       "<style scoped>\n",
       "    .dataframe tbody tr th:only-of-type {\n",
       "        vertical-align: middle;\n",
       "    }\n",
       "\n",
       "    .dataframe tbody tr th {\n",
       "        vertical-align: top;\n",
       "    }\n",
       "\n",
       "    .dataframe thead th {\n",
       "        text-align: right;\n",
       "    }\n",
       "</style>\n",
       "<table border=\"1\" class=\"dataframe\">\n",
       "  <thead>\n",
       "    <tr style=\"text-align: right;\">\n",
       "      <th></th>\n",
       "      <th>idx</th>\n",
       "      <th>tconst</th>\n",
       "      <th>primary_title</th>\n",
       "      <th>original_title</th>\n",
       "      <th>start_year</th>\n",
       "      <th>runtime_minutes</th>\n",
       "      <th>genres</th>\n",
       "    </tr>\n",
       "  </thead>\n",
       "  <tbody>\n",
       "    <tr>\n",
       "      <th>0</th>\n",
       "      <td>0</td>\n",
       "      <td>tt0063540</td>\n",
       "      <td>Sunghursh</td>\n",
       "      <td>Sunghursh</td>\n",
       "      <td>2013</td>\n",
       "      <td>175.0</td>\n",
       "      <td>Action,Crime,Drama</td>\n",
       "    </tr>\n",
       "    <tr>\n",
       "      <th>1</th>\n",
       "      <td>1</td>\n",
       "      <td>tt0066787</td>\n",
       "      <td>One Day Before the Rainy Season</td>\n",
       "      <td>Ashad Ka Ek Din</td>\n",
       "      <td>2019</td>\n",
       "      <td>114.0</td>\n",
       "      <td>Biography,Drama</td>\n",
       "    </tr>\n",
       "    <tr>\n",
       "      <th>2</th>\n",
       "      <td>2</td>\n",
       "      <td>tt0069049</td>\n",
       "      <td>The Other Side of the Wind</td>\n",
       "      <td>The Other Side of the Wind</td>\n",
       "      <td>2018</td>\n",
       "      <td>122.0</td>\n",
       "      <td>Drama</td>\n",
       "    </tr>\n",
       "    <tr>\n",
       "      <th>3</th>\n",
       "      <td>3</td>\n",
       "      <td>tt0069204</td>\n",
       "      <td>Sabse Bada Sukh</td>\n",
       "      <td>Sabse Bada Sukh</td>\n",
       "      <td>2018</td>\n",
       "      <td>NaN</td>\n",
       "      <td>Comedy,Drama</td>\n",
       "    </tr>\n",
       "    <tr>\n",
       "      <th>4</th>\n",
       "      <td>4</td>\n",
       "      <td>tt0100275</td>\n",
       "      <td>The Wandering Soap Opera</td>\n",
       "      <td>La Telenovela Errante</td>\n",
       "      <td>2017</td>\n",
       "      <td>80.0</td>\n",
       "      <td>Comedy,Drama,Fantasy</td>\n",
       "    </tr>\n",
       "  </tbody>\n",
       "</table>\n",
       "</div>"
      ],
      "text/plain": [
       "   idx     tconst                    primary_title  \\\n",
       "0    0  tt0063540                        Sunghursh   \n",
       "1    1  tt0066787  One Day Before the Rainy Season   \n",
       "2    2  tt0069049       The Other Side of the Wind   \n",
       "3    3  tt0069204                  Sabse Bada Sukh   \n",
       "4    4  tt0100275         The Wandering Soap Opera   \n",
       "\n",
       "               original_title  start_year  runtime_minutes  \\\n",
       "0                   Sunghursh        2013            175.0   \n",
       "1             Ashad Ka Ek Din        2019            114.0   \n",
       "2  The Other Side of the Wind        2018            122.0   \n",
       "3             Sabse Bada Sukh        2018              NaN   \n",
       "4       La Telenovela Errante        2017             80.0   \n",
       "\n",
       "                 genres  \n",
       "0    Action,Crime,Drama  \n",
       "1       Biography,Drama  \n",
       "2                 Drama  \n",
       "3          Comedy,Drama  \n",
       "4  Comedy,Drama,Fantasy  "
      ]
     },
     "execution_count": 195,
     "metadata": {},
     "output_type": "execute_result"
    }
   ],
   "source": [
    "imdb.head()\n",
    "#note that genre_ids are formatted as strings"
   ]
  },
  {
   "cell_type": "code",
   "execution_count": 196,
   "metadata": {
    "tags": []
   },
   "outputs": [
    {
     "data": {
      "text/plain": [
       "1    Biography,Drama\n",
       "Name: genres, dtype: object"
      ]
     },
     "execution_count": 196,
     "metadata": {},
     "output_type": "execute_result"
    }
   ],
   "source": [
    "#isolate just one obs\n",
    "imdb[1:2]['genres']"
   ]
  },
  {
   "cell_type": "code",
   "execution_count": 197,
   "metadata": {},
   "outputs": [
    {
     "data": {
      "text/html": [
       "<div>\n",
       "<style scoped>\n",
       "    .dataframe tbody tr th:only-of-type {\n",
       "        vertical-align: middle;\n",
       "    }\n",
       "\n",
       "    .dataframe tbody tr th {\n",
       "        vertical-align: top;\n",
       "    }\n",
       "\n",
       "    .dataframe thead th {\n",
       "        text-align: right;\n",
       "    }\n",
       "</style>\n",
       "<table border=\"1\" class=\"dataframe\">\n",
       "  <thead>\n",
       "    <tr style=\"text-align: right;\">\n",
       "      <th></th>\n",
       "      <th>idx</th>\n",
       "      <th>tconst</th>\n",
       "      <th>primary_title</th>\n",
       "      <th>original_title</th>\n",
       "      <th>start_year</th>\n",
       "      <th>runtime_minutes</th>\n",
       "      <th>genres</th>\n",
       "    </tr>\n",
       "  </thead>\n",
       "  <tbody>\n",
       "    <tr>\n",
       "      <th>0</th>\n",
       "      <td>0</td>\n",
       "      <td>tt0063540</td>\n",
       "      <td>Sunghursh</td>\n",
       "      <td>Sunghursh</td>\n",
       "      <td>2013</td>\n",
       "      <td>175.0</td>\n",
       "      <td>Action,Crime,Drama</td>\n",
       "    </tr>\n",
       "    <tr>\n",
       "      <th>1</th>\n",
       "      <td>1</td>\n",
       "      <td>tt0066787</td>\n",
       "      <td>One Day Before the Rainy Season</td>\n",
       "      <td>Ashad Ka Ek Din</td>\n",
       "      <td>2019</td>\n",
       "      <td>114.0</td>\n",
       "      <td>Biography,Drama</td>\n",
       "    </tr>\n",
       "    <tr>\n",
       "      <th>2</th>\n",
       "      <td>2</td>\n",
       "      <td>tt0069049</td>\n",
       "      <td>The Other Side of the Wind</td>\n",
       "      <td>The Other Side of the Wind</td>\n",
       "      <td>2018</td>\n",
       "      <td>122.0</td>\n",
       "      <td>Drama</td>\n",
       "    </tr>\n",
       "    <tr>\n",
       "      <th>3</th>\n",
       "      <td>3</td>\n",
       "      <td>tt0069204</td>\n",
       "      <td>Sabse Bada Sukh</td>\n",
       "      <td>Sabse Bada Sukh</td>\n",
       "      <td>2018</td>\n",
       "      <td>NaN</td>\n",
       "      <td>Comedy,Drama</td>\n",
       "    </tr>\n",
       "    <tr>\n",
       "      <th>4</th>\n",
       "      <td>4</td>\n",
       "      <td>tt0100275</td>\n",
       "      <td>The Wandering Soap Opera</td>\n",
       "      <td>La Telenovela Errante</td>\n",
       "      <td>2017</td>\n",
       "      <td>80.0</td>\n",
       "      <td>Comedy,Drama,Fantasy</td>\n",
       "    </tr>\n",
       "  </tbody>\n",
       "</table>\n",
       "</div>"
      ],
      "text/plain": [
       "   idx     tconst                    primary_title  \\\n",
       "0    0  tt0063540                        Sunghursh   \n",
       "1    1  tt0066787  One Day Before the Rainy Season   \n",
       "2    2  tt0069049       The Other Side of the Wind   \n",
       "3    3  tt0069204                  Sabse Bada Sukh   \n",
       "4    4  tt0100275         The Wandering Soap Opera   \n",
       "\n",
       "               original_title  start_year  runtime_minutes  \\\n",
       "0                   Sunghursh        2013            175.0   \n",
       "1             Ashad Ka Ek Din        2019            114.0   \n",
       "2  The Other Side of the Wind        2018            122.0   \n",
       "3             Sabse Bada Sukh        2018              NaN   \n",
       "4       La Telenovela Errante        2017             80.0   \n",
       "\n",
       "                 genres  \n",
       "0    Action,Crime,Drama  \n",
       "1       Biography,Drama  \n",
       "2                 Drama  \n",
       "3          Comedy,Drama  \n",
       "4  Comedy,Drama,Fantasy  "
      ]
     },
     "execution_count": 197,
     "metadata": {},
     "output_type": "execute_result"
    }
   ],
   "source": [
    "#make a subset of the database to play with\n",
    "imdb_test = imdb.head(5)\n",
    "imdb_test"
   ]
  },
  {
   "cell_type": "code",
   "execution_count": 199,
   "metadata": {},
   "outputs": [],
   "source": [
    "#separate genre_ids by commas\n",
    "imdb_split = imdb_test['genres'].str.split(',').explode()\n",
    "#note: can only run this once"
   ]
  },
  {
   "cell_type": "code",
   "execution_count": 201,
   "metadata": {},
   "outputs": [
    {
     "data": {
      "text/plain": [
       "0       Action\n",
       "0        Crime\n",
       "0        Drama\n",
       "1    Biography\n",
       "1        Drama\n",
       "2        Drama\n",
       "3       Comedy\n",
       "3        Drama\n",
       "4       Comedy\n",
       "4        Drama\n",
       "4      Fantasy\n",
       "Name: genres, dtype: object"
      ]
     },
     "execution_count": 201,
     "metadata": {},
     "output_type": "execute_result"
    }
   ],
   "source": [
    "#how did it work?\n",
    "imdb_split"
   ]
  },
  {
   "cell_type": "markdown",
   "metadata": {},
   "source": [
    "### code for searching for a specific title"
   ]
  },
  {
   "cell_type": "code",
   "execution_count": 5,
   "metadata": {},
   "outputs": [
    {
     "data": {
      "text/html": [
       "<div>\n",
       "<style scoped>\n",
       "    .dataframe tbody tr th:only-of-type {\n",
       "        vertical-align: middle;\n",
       "    }\n",
       "\n",
       "    .dataframe tbody tr th {\n",
       "        vertical-align: top;\n",
       "    }\n",
       "\n",
       "    .dataframe thead th {\n",
       "        text-align: right;\n",
       "    }\n",
       "</style>\n",
       "<table border=\"1\" class=\"dataframe\">\n",
       "  <thead>\n",
       "    <tr style=\"text-align: right;\">\n",
       "      <th></th>\n",
       "      <th>idx</th>\n",
       "      <th>tconst</th>\n",
       "      <th>primary_title</th>\n",
       "      <th>original_title</th>\n",
       "      <th>start_year</th>\n",
       "      <th>runtime_minutes</th>\n",
       "      <th>genres</th>\n",
       "    </tr>\n",
       "  </thead>\n",
       "  <tbody>\n",
       "    <tr>\n",
       "      <th>2370</th>\n",
       "      <td>2370</td>\n",
       "      <td>tt10239898</td>\n",
       "      <td>Star Wars: Battle for the Holocrons</td>\n",
       "      <td>Star Wars: Battle for the Holocrons</td>\n",
       "      <td>2020</td>\n",
       "      <td>NaN</td>\n",
       "      <td>Action,Adventure,Fantasy</td>\n",
       "    </tr>\n",
       "    <tr>\n",
       "      <th>2947</th>\n",
       "      <td>2947</td>\n",
       "      <td>tt10300394</td>\n",
       "      <td>Untitled Star Wars Film</td>\n",
       "      <td>Untitled Star Wars Film</td>\n",
       "      <td>2022</td>\n",
       "      <td>NaN</td>\n",
       "      <td>None</td>\n",
       "    </tr>\n",
       "    <tr>\n",
       "      <th>2948</th>\n",
       "      <td>2948</td>\n",
       "      <td>tt10300396</td>\n",
       "      <td>Untitled Star Wars Film</td>\n",
       "      <td>Untitled Star Wars Film</td>\n",
       "      <td>2024</td>\n",
       "      <td>NaN</td>\n",
       "      <td>None</td>\n",
       "    </tr>\n",
       "    <tr>\n",
       "      <th>2949</th>\n",
       "      <td>2949</td>\n",
       "      <td>tt10300398</td>\n",
       "      <td>Untitled Star Wars Film</td>\n",
       "      <td>Untitled Star Wars Film</td>\n",
       "      <td>2026</td>\n",
       "      <td>NaN</td>\n",
       "      <td>Fantasy</td>\n",
       "    </tr>\n",
       "    <tr>\n",
       "      <th>3219</th>\n",
       "      <td>3219</td>\n",
       "      <td>tt10321138</td>\n",
       "      <td>RiffTrax: Star Wars: The Force Awakens</td>\n",
       "      <td>RiffTrax: Star Wars: The Force Awakens</td>\n",
       "      <td>2016</td>\n",
       "      <td>NaN</td>\n",
       "      <td>Comedy</td>\n",
       "    </tr>\n",
       "    <tr>\n",
       "      <th>34425</th>\n",
       "      <td>34425</td>\n",
       "      <td>tt2275656</td>\n",
       "      <td>Star Wars: Threads of Destiny</td>\n",
       "      <td>Star Wars: Threads of Destiny</td>\n",
       "      <td>2014</td>\n",
       "      <td>110.0</td>\n",
       "      <td>Action,Adventure,Sci-Fi</td>\n",
       "    </tr>\n",
       "    <tr>\n",
       "      <th>41443</th>\n",
       "      <td>41443</td>\n",
       "      <td>tt2488496</td>\n",
       "      <td>Star Wars: Episode VII - The Force Awakens</td>\n",
       "      <td>Star Wars: Episode VII - The Force Awakens</td>\n",
       "      <td>2015</td>\n",
       "      <td>136.0</td>\n",
       "      <td>Action,Adventure,Fantasy</td>\n",
       "    </tr>\n",
       "    <tr>\n",
       "      <th>42223</th>\n",
       "      <td>42223</td>\n",
       "      <td>tt2527336</td>\n",
       "      <td>Star Wars: The Last Jedi</td>\n",
       "      <td>Star Wars: Episode VIII - The Last Jedi</td>\n",
       "      <td>2017</td>\n",
       "      <td>152.0</td>\n",
       "      <td>Action,Adventure,Fantasy</td>\n",
       "    </tr>\n",
       "    <tr>\n",
       "      <th>42224</th>\n",
       "      <td>42224</td>\n",
       "      <td>tt2527338</td>\n",
       "      <td>Star Wars: The Rise of Skywalker</td>\n",
       "      <td>Star Wars: The Rise of Skywalker</td>\n",
       "      <td>2019</td>\n",
       "      <td>NaN</td>\n",
       "      <td>Action,Adventure,Fantasy</td>\n",
       "    </tr>\n",
       "    <tr>\n",
       "      <th>63494</th>\n",
       "      <td>63494</td>\n",
       "      <td>tt3648510</td>\n",
       "      <td>Plastic Galaxy: The Story of Star Wars Toys</td>\n",
       "      <td>Plastic Galaxy: The Story of Star Wars Toys</td>\n",
       "      <td>2014</td>\n",
       "      <td>70.0</td>\n",
       "      <td>Documentary,History,Sci-Fi</td>\n",
       "    </tr>\n",
       "    <tr>\n",
       "      <th>65705</th>\n",
       "      <td>65705</td>\n",
       "      <td>tt3748528</td>\n",
       "      <td>Rogue One: A Star Wars Story</td>\n",
       "      <td>Rogue One</td>\n",
       "      <td>2016</td>\n",
       "      <td>133.0</td>\n",
       "      <td>Action,Adventure,Sci-Fi</td>\n",
       "    </tr>\n",
       "    <tr>\n",
       "      <th>66299</th>\n",
       "      <td>66299</td>\n",
       "      <td>tt3778644</td>\n",
       "      <td>Solo: A Star Wars Story</td>\n",
       "      <td>Solo: A Star Wars Story</td>\n",
       "      <td>2018</td>\n",
       "      <td>135.0</td>\n",
       "      <td>Action,Adventure,Fantasy</td>\n",
       "    </tr>\n",
       "    <tr>\n",
       "      <th>66895</th>\n",
       "      <td>66895</td>\n",
       "      <td>tt3810772</td>\n",
       "      <td>Star Wars: The New Republic</td>\n",
       "      <td>Star Wars: The New Republic</td>\n",
       "      <td>2014</td>\n",
       "      <td>NaN</td>\n",
       "      <td>Action,Adventure,Sci-Fi</td>\n",
       "    </tr>\n",
       "    <tr>\n",
       "      <th>76875</th>\n",
       "      <td>76875</td>\n",
       "      <td>tt4401260</td>\n",
       "      <td>Forsaken: A Star Wars Fan Film</td>\n",
       "      <td>Forsaken: A Star Wars Fan Film</td>\n",
       "      <td>2015</td>\n",
       "      <td>NaN</td>\n",
       "      <td>Adventure,Fantasy,Sci-Fi</td>\n",
       "    </tr>\n",
       "    <tr>\n",
       "      <th>80804</th>\n",
       "      <td>80804</td>\n",
       "      <td>tt4644286</td>\n",
       "      <td>Star Wars Begins: A Filmumentary</td>\n",
       "      <td>Star Wars Begins: A Filmumentary</td>\n",
       "      <td>2011</td>\n",
       "      <td>139.0</td>\n",
       "      <td>Documentary</td>\n",
       "    </tr>\n",
       "    <tr>\n",
       "      <th>84007</th>\n",
       "      <td>84007</td>\n",
       "      <td>tt4854650</td>\n",
       "      <td>Star Wars: The Fallen Brother</td>\n",
       "      <td>Star Wars: The Fallen Brother</td>\n",
       "      <td>2017</td>\n",
       "      <td>NaN</td>\n",
       "      <td>Action,Fantasy,Sci-Fi</td>\n",
       "    </tr>\n",
       "    <tr>\n",
       "      <th>101887</th>\n",
       "      <td>101887</td>\n",
       "      <td>tt5957180</td>\n",
       "      <td>Star Wars: The Dark Reckoning</td>\n",
       "      <td>Star Wars: The Dark Reckoning</td>\n",
       "      <td>2017</td>\n",
       "      <td>45.0</td>\n",
       "      <td>Sci-Fi</td>\n",
       "    </tr>\n",
       "    <tr>\n",
       "      <th>111557</th>\n",
       "      <td>111557</td>\n",
       "      <td>tt6522426</td>\n",
       "      <td>Call of the Jedi: A Star Wars Story</td>\n",
       "      <td>Call of the Jedi: A Star Wars Story</td>\n",
       "      <td>2017</td>\n",
       "      <td>60.0</td>\n",
       "      <td>Sci-Fi</td>\n",
       "    </tr>\n",
       "    <tr>\n",
       "      <th>113438</th>\n",
       "      <td>113438</td>\n",
       "      <td>tt6682462</td>\n",
       "      <td>Star Wars FanFilm the Padawan I 'The Beginning'</td>\n",
       "      <td>Star Wars FanFilm the Padawan I 'The Beginning'</td>\n",
       "      <td>2012</td>\n",
       "      <td>NaN</td>\n",
       "      <td>Sci-Fi</td>\n",
       "    </tr>\n",
       "    <tr>\n",
       "      <th>122662</th>\n",
       "      <td>122662</td>\n",
       "      <td>tt7421764</td>\n",
       "      <td>Star Wars: Rise of the First Order</td>\n",
       "      <td>Star Wars: Rise of the First Order</td>\n",
       "      <td>2017</td>\n",
       "      <td>87.0</td>\n",
       "      <td>Action,Drama</td>\n",
       "    </tr>\n",
       "    <tr>\n",
       "      <th>126805</th>\n",
       "      <td>126805</td>\n",
       "      <td>tt7753242</td>\n",
       "      <td>Star Wars Night at the Highball</td>\n",
       "      <td>Star Wars Night at the Highball</td>\n",
       "      <td>2017</td>\n",
       "      <td>91.0</td>\n",
       "      <td>Music</td>\n",
       "    </tr>\n",
       "    <tr>\n",
       "      <th>129337</th>\n",
       "      <td>129337</td>\n",
       "      <td>tt7974630</td>\n",
       "      <td>Untitled Star Wars Project</td>\n",
       "      <td>Untitled Star Wars Project</td>\n",
       "      <td>2022</td>\n",
       "      <td>NaN</td>\n",
       "      <td>Sci-Fi</td>\n",
       "    </tr>\n",
       "    <tr>\n",
       "      <th>140627</th>\n",
       "      <td>140627</td>\n",
       "      <td>tt9129500</td>\n",
       "      <td>Fall of Lotus: A Star Wars Story</td>\n",
       "      <td>Fall of Lotus: A Star Wars Story</td>\n",
       "      <td>2018</td>\n",
       "      <td>NaN</td>\n",
       "      <td>Action,Adventure,Fantasy</td>\n",
       "    </tr>\n",
       "    <tr>\n",
       "      <th>143595</th>\n",
       "      <td>143595</td>\n",
       "      <td>tt9548962</td>\n",
       "      <td>Star Wars: The Fans Vs Disney</td>\n",
       "      <td>Star Wars: The Fans Vs Disney</td>\n",
       "      <td>2018</td>\n",
       "      <td>57.0</td>\n",
       "      <td>Documentary</td>\n",
       "    </tr>\n",
       "    <tr>\n",
       "      <th>144180</th>\n",
       "      <td>144180</td>\n",
       "      <td>tt9635760</td>\n",
       "      <td>Star Wars: Shadow of the Jedi</td>\n",
       "      <td>Star Wars: Shadow of the Jedi</td>\n",
       "      <td>2019</td>\n",
       "      <td>NaN</td>\n",
       "      <td>Action,Adventure,Fantasy</td>\n",
       "    </tr>\n",
       "    <tr>\n",
       "      <th>145584</th>\n",
       "      <td>145584</td>\n",
       "      <td>tt9842704</td>\n",
       "      <td>Star Wars: Literacy Strikes Back</td>\n",
       "      <td>Star Wars: Literacy Strikes Back</td>\n",
       "      <td>2018</td>\n",
       "      <td>51.0</td>\n",
       "      <td>Fantasy</td>\n",
       "    </tr>\n",
       "  </tbody>\n",
       "</table>\n",
       "</div>"
      ],
      "text/plain": [
       "           idx      tconst                                    primary_title  \\\n",
       "2370      2370  tt10239898              Star Wars: Battle for the Holocrons   \n",
       "2947      2947  tt10300394                          Untitled Star Wars Film   \n",
       "2948      2948  tt10300396                          Untitled Star Wars Film   \n",
       "2949      2949  tt10300398                          Untitled Star Wars Film   \n",
       "3219      3219  tt10321138           RiffTrax: Star Wars: The Force Awakens   \n",
       "34425    34425   tt2275656                    Star Wars: Threads of Destiny   \n",
       "41443    41443   tt2488496       Star Wars: Episode VII - The Force Awakens   \n",
       "42223    42223   tt2527336                         Star Wars: The Last Jedi   \n",
       "42224    42224   tt2527338                 Star Wars: The Rise of Skywalker   \n",
       "63494    63494   tt3648510      Plastic Galaxy: The Story of Star Wars Toys   \n",
       "65705    65705   tt3748528                     Rogue One: A Star Wars Story   \n",
       "66299    66299   tt3778644                          Solo: A Star Wars Story   \n",
       "66895    66895   tt3810772                      Star Wars: The New Republic   \n",
       "76875    76875   tt4401260                   Forsaken: A Star Wars Fan Film   \n",
       "80804    80804   tt4644286                 Star Wars Begins: A Filmumentary   \n",
       "84007    84007   tt4854650                    Star Wars: The Fallen Brother   \n",
       "101887  101887   tt5957180                    Star Wars: The Dark Reckoning   \n",
       "111557  111557   tt6522426              Call of the Jedi: A Star Wars Story   \n",
       "113438  113438   tt6682462  Star Wars FanFilm the Padawan I 'The Beginning'   \n",
       "122662  122662   tt7421764               Star Wars: Rise of the First Order   \n",
       "126805  126805   tt7753242                  Star Wars Night at the Highball   \n",
       "129337  129337   tt7974630                       Untitled Star Wars Project   \n",
       "140627  140627   tt9129500                 Fall of Lotus: A Star Wars Story   \n",
       "143595  143595   tt9548962                    Star Wars: The Fans Vs Disney   \n",
       "144180  144180   tt9635760                    Star Wars: Shadow of the Jedi   \n",
       "145584  145584   tt9842704                 Star Wars: Literacy Strikes Back   \n",
       "\n",
       "                                         original_title  start_year  \\\n",
       "2370                Star Wars: Battle for the Holocrons        2020   \n",
       "2947                            Untitled Star Wars Film        2022   \n",
       "2948                            Untitled Star Wars Film        2024   \n",
       "2949                            Untitled Star Wars Film        2026   \n",
       "3219             RiffTrax: Star Wars: The Force Awakens        2016   \n",
       "34425                     Star Wars: Threads of Destiny        2014   \n",
       "41443        Star Wars: Episode VII - The Force Awakens        2015   \n",
       "42223           Star Wars: Episode VIII - The Last Jedi        2017   \n",
       "42224                  Star Wars: The Rise of Skywalker        2019   \n",
       "63494       Plastic Galaxy: The Story of Star Wars Toys        2014   \n",
       "65705                                         Rogue One        2016   \n",
       "66299                           Solo: A Star Wars Story        2018   \n",
       "66895                       Star Wars: The New Republic        2014   \n",
       "76875                    Forsaken: A Star Wars Fan Film        2015   \n",
       "80804                  Star Wars Begins: A Filmumentary        2011   \n",
       "84007                     Star Wars: The Fallen Brother        2017   \n",
       "101887                    Star Wars: The Dark Reckoning        2017   \n",
       "111557              Call of the Jedi: A Star Wars Story        2017   \n",
       "113438  Star Wars FanFilm the Padawan I 'The Beginning'        2012   \n",
       "122662               Star Wars: Rise of the First Order        2017   \n",
       "126805                  Star Wars Night at the Highball        2017   \n",
       "129337                       Untitled Star Wars Project        2022   \n",
       "140627                 Fall of Lotus: A Star Wars Story        2018   \n",
       "143595                    Star Wars: The Fans Vs Disney        2018   \n",
       "144180                    Star Wars: Shadow of the Jedi        2019   \n",
       "145584                 Star Wars: Literacy Strikes Back        2018   \n",
       "\n",
       "        runtime_minutes                      genres  \n",
       "2370                NaN    Action,Adventure,Fantasy  \n",
       "2947                NaN                        None  \n",
       "2948                NaN                        None  \n",
       "2949                NaN                     Fantasy  \n",
       "3219                NaN                      Comedy  \n",
       "34425             110.0     Action,Adventure,Sci-Fi  \n",
       "41443             136.0    Action,Adventure,Fantasy  \n",
       "42223             152.0    Action,Adventure,Fantasy  \n",
       "42224               NaN    Action,Adventure,Fantasy  \n",
       "63494              70.0  Documentary,History,Sci-Fi  \n",
       "65705             133.0     Action,Adventure,Sci-Fi  \n",
       "66299             135.0    Action,Adventure,Fantasy  \n",
       "66895               NaN     Action,Adventure,Sci-Fi  \n",
       "76875               NaN    Adventure,Fantasy,Sci-Fi  \n",
       "80804             139.0                 Documentary  \n",
       "84007               NaN       Action,Fantasy,Sci-Fi  \n",
       "101887             45.0                      Sci-Fi  \n",
       "111557             60.0                      Sci-Fi  \n",
       "113438              NaN                      Sci-Fi  \n",
       "122662             87.0                Action,Drama  \n",
       "126805             91.0                       Music  \n",
       "129337              NaN                      Sci-Fi  \n",
       "140627              NaN    Action,Adventure,Fantasy  \n",
       "143595             57.0                 Documentary  \n",
       "144180              NaN    Action,Adventure,Fantasy  \n",
       "145584             51.0                     Fantasy  "
      ]
     },
     "execution_count": 5,
     "metadata": {},
     "output_type": "execute_result"
    }
   ],
   "source": [
    "#look for a specific title\n",
    "df1 = imdb[imdb['primary_title'].str.contains(\"Star Wars\")]\n",
    "df1"
   ]
  },
  {
   "cell_type": "markdown",
   "metadata": {},
   "source": [
    "### merging tn_movie_budgets and imdb_title_basics"
   ]
  },
  {
   "cell_type": "code",
   "execution_count": 6,
   "metadata": {},
   "outputs": [],
   "source": [
    "\n",
    "df = pd.read_sql('''SELECT release_date, movie, production_budget, domestic_gross, worldwide_gross, genres\n",
    "                 FROM tn_movie_budgets AS tn\n",
    "                 JOIN imdb_title_basics AS imdb\n",
    "                 ON tn.movie = \n",
    "                 imdb.primary_title\n",
    "                 ;''', conn)\n"
   ]
  },
  {
   "cell_type": "code",
   "execution_count": 82,
   "metadata": {},
   "outputs": [
    {
     "name": "stdout",
     "output_type": "stream",
     "text": [
      "<class 'pandas.core.frame.DataFrame'>\n",
      "RangeIndex: 3815 entries, 0 to 3814\n",
      "Data columns (total 6 columns):\n",
      " #   Column             Non-Null Count  Dtype \n",
      "---  ------             --------------  ----- \n",
      " 0   release_date       3815 non-null   object\n",
      " 1   movie              3815 non-null   object\n",
      " 2   production_budget  3815 non-null   object\n",
      " 3   domestic_gross     3815 non-null   object\n",
      " 4   worldwide_gross    3815 non-null   object\n",
      " 5   genres             3743 non-null   object\n",
      "dtypes: object(6)\n",
      "memory usage: 179.0+ KB\n"
     ]
    }
   ],
   "source": [
    "df.info()\n",
    "#note: only 3,815 entries"
   ]
  },
  {
   "cell_type": "code",
   "execution_count": 8,
   "metadata": {
    "scrolled": true
   },
   "outputs": [
    {
     "data": {
      "text/html": [
       "<div>\n",
       "<style scoped>\n",
       "    .dataframe tbody tr th:only-of-type {\n",
       "        vertical-align: middle;\n",
       "    }\n",
       "\n",
       "    .dataframe tbody tr th {\n",
       "        vertical-align: top;\n",
       "    }\n",
       "\n",
       "    .dataframe thead th {\n",
       "        text-align: right;\n",
       "    }\n",
       "</style>\n",
       "<table border=\"1\" class=\"dataframe\">\n",
       "  <thead>\n",
       "    <tr style=\"text-align: right;\">\n",
       "      <th></th>\n",
       "      <th>release_date</th>\n",
       "      <th>movie</th>\n",
       "      <th>production_budget</th>\n",
       "      <th>domestic_gross</th>\n",
       "      <th>worldwide_gross</th>\n",
       "      <th>genres</th>\n",
       "    </tr>\n",
       "  </thead>\n",
       "  <tbody>\n",
       "    <tr>\n",
       "      <th>8</th>\n",
       "      <td>May 25, 2018</td>\n",
       "      <td>Solo: A Star Wars Story</td>\n",
       "      <td>$275,000,000</td>\n",
       "      <td>$213,767,512</td>\n",
       "      <td>$393,151,347</td>\n",
       "      <td>Action,Adventure,Fantasy</td>\n",
       "    </tr>\n",
       "    <tr>\n",
       "      <th>37</th>\n",
       "      <td>Dec 16, 2016</td>\n",
       "      <td>Rogue One: A Star Wars Story</td>\n",
       "      <td>$200,000,000</td>\n",
       "      <td>$532,177,324</td>\n",
       "      <td>$1,049,102,856</td>\n",
       "      <td>Action,Adventure,Sci-Fi</td>\n",
       "    </tr>\n",
       "  </tbody>\n",
       "</table>\n",
       "</div>"
      ],
      "text/plain": [
       "    release_date                         movie production_budget  \\\n",
       "8   May 25, 2018       Solo: A Star Wars Story      $275,000,000   \n",
       "37  Dec 16, 2016  Rogue One: A Star Wars Story      $200,000,000   \n",
       "\n",
       "   domestic_gross worldwide_gross                    genres  \n",
       "8    $213,767,512    $393,151,347  Action,Adventure,Fantasy  \n",
       "37   $532,177,324  $1,049,102,856   Action,Adventure,Sci-Fi  "
      ]
     },
     "execution_count": 8,
     "metadata": {},
     "output_type": "execute_result"
    }
   ],
   "source": [
    "#what does x title look like in other db?\n",
    "df1 = df[df['movie'].str.contains(\"Star Wars\")]\n",
    "df1"
   ]
  },
  {
   "cell_type": "markdown",
   "metadata": {},
   "source": [
    "Issues w/ different databases to this point:\n",
    "1. the bottom line here is that both databases don't have the same movies in them. This is b.c. names are slightly different.\n",
    "2. the genres don't equally match up, so they can't be compared. One may have more detail than another. Sol'n is either to do value_counts on combinations to see if there are logical groupings OR can separate on commas and represent movies in mulbiple genres. If this option, then make sure to watch out for influential outliers (e.g., Star Wars)"
   ]
  },
  {
   "cell_type": "code",
   "execution_count": 80,
   "metadata": {},
   "outputs": [
    {
     "data": {
      "text/plain": [
       "Drama                         497\n",
       "Documentary                   290\n",
       "Comedy                        140\n",
       "Comedy,Drama                  104\n",
       "Horror                         95\n",
       "Drama,Romance                  89\n",
       "Comedy,Drama,Romance           84\n",
       "Thriller                       81\n",
       "Adventure,Animation,Comedy     73\n",
       "Drama,Thriller                 63\n",
       "Action,Crime,Drama             63\n",
       "Comedy,Romance                 59\n",
       "Action,Adventure,Sci-Fi        58\n",
       "Horror,Thriller                56\n",
       "Horror,Mystery,Thriller        47\n",
       "Action                         46\n",
       "Action,Adventure,Fantasy       41\n",
       "Crime,Drama,Thriller           39\n",
       "Action,Comedy,Crime            37\n",
       "Action,Adventure,Drama         34\n",
       "Name: genres, dtype: int64"
      ]
     },
     "execution_count": 80,
     "metadata": {},
     "output_type": "execute_result"
    }
   ],
   "source": [
    "df_genres = df['genres'].value_counts()\n",
    "df_genres.head(20)"
   ]
  },
  {
   "cell_type": "code",
   "execution_count": 79,
   "metadata": {},
   "outputs": [
    {
     "data": {
      "text/plain": [
       "Text(0.5, 1.0, 'Distribution of Movie Genres')"
      ]
     },
     "execution_count": 79,
     "metadata": {},
     "output_type": "execute_result"
    },
    {
     "data": {
      "image/png": "[encoded data removed]",
      "text/plain": [
       "<Figure size 432x288 with 1 Axes>"
      ]
     },
     "metadata": {
      "needs_background": "light"
     },
     "output_type": "display_data"
    }
   ],
   "source": [
    "#df_genres.describe()\n",
    "df_genres.plot(kind='hist', bins=50)\n",
    "ax.set_title(\"Distribution of Movie Genres\")"
   ]
  },
  {
   "cell_type": "markdown",
   "metadata": {},
   "source": [
    "========================\n",
    "\n",
    "#### make a plot of the top movie gross 1995-2021\n",
    "based on data from here: https://m.the-numbers.com/market/"
   ]
  },
  {
   "cell_type": "code",
   "execution_count": 37,
   "metadata": {},
   "outputs": [],
   "source": [
    "gross = pd.read_csv('data/tn_top_grossers.csv') \n"
   ]
  },
  {
   "cell_type": "code",
   "execution_count": 38,
   "metadata": {},
   "outputs": [
    {
     "name": "stdout",
     "output_type": "stream",
     "text": [
      "<class 'pandas.core.frame.DataFrame'>\n",
      "RangeIndex: 15 entries, 0 to 14\n",
      "Data columns (total 6 columns):\n",
      " #   Column            Non-Null Count  Dtype \n",
      "---  ------            --------------  ----- \n",
      " 0   Rank              15 non-null     int64 \n",
      " 1   Genre             15 non-null     object\n",
      " 2   Movies            15 non-null     object\n",
      " 3   Total Box Office  15 non-null     int64 \n",
      " 4   Tickets           15 non-null     object\n",
      " 5   Share             15 non-null     object\n",
      "dtypes: int64(2), object(4)\n",
      "memory usage: 848.0+ bytes\n"
     ]
    },
    {
     "name": "stderr",
     "output_type": "stream",
     "text": [
      "<ipython-input-38-65edaf8f2efd>:2: FutureWarning: The default value of regex will change from True to False in a future version. In addition, single character regular expressions will*not* be treated as literal strings when regex=True.\n",
      "  gross['Total Box Office'] = gross['Total Box Office'].str.replace('$', '')\n"
     ]
    }
   ],
   "source": [
    "gross['Total Box Office'] = gross['Total Box Office'].str.replace(',', '')\n",
    "gross['Total Box Office'] = gross['Total Box Office'].str.replace('$', '')\n",
    "gross[['Total Box Office']] = gross[['Total Box Office']].apply(pd.to_numeric) \n",
    "gross.info()"
   ]
  },
  {
   "cell_type": "code",
   "execution_count": 60,
   "metadata": {},
   "outputs": [
    {
     "data": {
      "image/png": "[encoded data removed]",
      "text/plain": [
       "<Figure size 432x288 with 1 Axes>"
      ]
     },
     "metadata": {
      "needs_background": "light"
     },
     "output_type": "display_data"
    }
   ],
   "source": [
    "gross_plot = sns.barplot(data=gross, y=\"Genre\", x=\"Total Box Office\")\n",
    "gross_plot.set(xlabel = \"Total Gross (Billions USD)\", ylabel='Movie Genre', title='Top-Grossing Production Methods 1995 to 2021')\n",
    "gross_plot;"
   ]
  },
  {
   "cell_type": "code",
   "execution_count": null,
   "metadata": {},
   "outputs": [],
   "source": []
  }
 ],
 "metadata": {
  "kernelspec": {
   "display_name": "Python 3",
   "language": "python",
   "name": "python3"
  },
  "language_info": {
   "codemirror_mode": {
    "name": "ipython",
    "version": 3
   },
   "file_extension": ".py",
   "mimetype": "text/x-python",
   "name": "python",
   "nbconvert_exporter": "python",
   "pygments_lexer": "ipython3",
   "version": "3.8.8"
  },
  "toc": {
   "base_numbering": 1,
   "nav_menu": {},
   "number_sections": false,
   "sideBar": true,
   "skip_h1_title": false,
   "title_cell": "Table of Contents",
   "title_sidebar": "Contents",
   "toc_cell": false,
   "toc_position": {},
   "toc_section_display": true,
   "toc_window_display": true
  }
 },
 "nbformat": 4,
 "nbformat_minor": 4
}
