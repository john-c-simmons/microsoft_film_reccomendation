{
 "cells": [
  {
   "cell_type": "code",
   "execution_count": 967,
   "id": "0a620d17",
   "metadata": {
    "ExecuteTime": {
     "end_time": "2021-06-10T01:09:35.479189Z",
     "start_time": "2021-06-10T01:09:01.427333Z"
    }
   },
   "outputs": [
    {
     "name": "stdout",
     "output_type": "stream",
     "text": [
      "imdb_title_principals table created successfully....\n",
      "imdb_name_basic table created successfully....\n",
      "imdb_title_crew table created successfully....\n",
      "imdb_title_ratings table created successfully....\n",
      "imdb_title_basics table created successfully....\n",
      "imdb_title_akas table created successfully....\n",
      "tn_movie_budgets table created successfully....\n",
      "tmdb_movies table created successfully....\n",
      "bom_movie_gross table created successfully....\n",
      "rotten_tomatoes_critic_reviews table created successfully....\n",
      "rotten_tomatoes_movies table created successfully....\n",
      "=========================================================\n",
      "Inserting data into the imdb_title_crew table....\n",
      "Inserting data into the tmdb_movies table....\n",
      "Inserting data into the imdb_title_akas table....\n",
      "Inserting data into the imdb_title_ratings table....\n",
      "Inserting data into the imdb_name_basics table....\n",
      "Inserting data into the rotten_tomatoes_movies table....\n",
      "Inserting data into the rotten_tomatoes_critic_reviews table....\n",
      "Inserting data into the imdb_title_basics table....\n",
      "Inserting data into the tn_movie_budgets table....\n",
      "Inserting data into the bom_movie_gross table....\n",
      "Inserting data into the imdb_title_principals table....\n",
      "=========================================================\n",
      "Database created successfully!\n",
      "To connect to the database: open a connection using the path \"data/movies.db\"\n"
     ]
    }
   ],
   "source": [
    "import os\n",
    "import sqlite3\n",
    "import pandas as pd\n",
    "import numpy as np\n",
    "import matplotlib.pyplot as plt\n",
    "import requests\n",
    "from bs4 import BeautifulSoup\n",
    "from IPython.display import display, Markdown\n",
    "import seaborn as sns\n",
    "from src.make_db import create_movies_db\n",
    "\n",
    "create_movies_db()\n",
    "con = sqlite3.connect('data/movies.db')"
   ]
  },
  {
   "cell_type": "code",
   "execution_count": 737,
   "id": "aa95b27b",
   "metadata": {
    "ExecuteTime": {
     "end_time": "2021-06-09T20:38:09.781540Z",
     "start_time": "2021-06-09T20:38:09.230144Z"
    }
   },
   "outputs": [
    {
     "data": {
      "text/html": [
       "<div>\n",
       "<style scoped>\n",
       "    .dataframe tbody tr th:only-of-type {\n",
       "        vertical-align: middle;\n",
       "    }\n",
       "\n",
       "    .dataframe tbody tr th {\n",
       "        vertical-align: top;\n",
       "    }\n",
       "\n",
       "    .dataframe thead th {\n",
       "        text-align: right;\n",
       "    }\n",
       "</style>\n",
       "<table border=\"1\" class=\"dataframe\">\n",
       "  <thead>\n",
       "    <tr style=\"text-align: right;\">\n",
       "      <th></th>\n",
       "      <th>idx</th>\n",
       "      <th>id</th>\n",
       "      <th>release_date</th>\n",
       "      <th>movie</th>\n",
       "      <th>production_budget</th>\n",
       "      <th>domestic_gross</th>\n",
       "      <th>worldwide_gross</th>\n",
       "      <th>logged_budget</th>\n",
       "      <th>total_gross</th>\n",
       "      <th>net_profit</th>\n",
       "      <th>return_on_investment</th>\n",
       "      <th>date_month</th>\n",
       "      <th>date_year</th>\n",
       "    </tr>\n",
       "  </thead>\n",
       "  <tbody>\n",
       "    <tr>\n",
       "      <th>1</th>\n",
       "      <td>1</td>\n",
       "      <td>2</td>\n",
       "      <td>2011-05-20</td>\n",
       "      <td>Pirates of the Caribbean: On Stranger Tides</td>\n",
       "      <td>410600000</td>\n",
       "      <td>241063875</td>\n",
       "      <td>1045663875</td>\n",
       "      <td>19.833130</td>\n",
       "      <td>1286727750</td>\n",
       "      <td>876127750</td>\n",
       "      <td>3.133774</td>\n",
       "      <td>5</td>\n",
       "      <td>2011</td>\n",
       "    </tr>\n",
       "    <tr>\n",
       "      <th>2</th>\n",
       "      <td>2</td>\n",
       "      <td>3</td>\n",
       "      <td>2019-06-07</td>\n",
       "      <td>Dark Phoenix</td>\n",
       "      <td>350000000</td>\n",
       "      <td>42762350</td>\n",
       "      <td>149762350</td>\n",
       "      <td>19.673444</td>\n",
       "      <td>192524700</td>\n",
       "      <td>-157475300</td>\n",
       "      <td>0.550071</td>\n",
       "      <td>6</td>\n",
       "      <td>2019</td>\n",
       "    </tr>\n",
       "    <tr>\n",
       "      <th>3</th>\n",
       "      <td>3</td>\n",
       "      <td>4</td>\n",
       "      <td>2015-05-01</td>\n",
       "      <td>Avengers: Age of Ultron</td>\n",
       "      <td>330600000</td>\n",
       "      <td>459005868</td>\n",
       "      <td>1403013963</td>\n",
       "      <td>19.616420</td>\n",
       "      <td>1862019831</td>\n",
       "      <td>1531419831</td>\n",
       "      <td>5.632244</td>\n",
       "      <td>5</td>\n",
       "      <td>2015</td>\n",
       "    </tr>\n",
       "    <tr>\n",
       "      <th>4</th>\n",
       "      <td>4</td>\n",
       "      <td>5</td>\n",
       "      <td>2017-12-15</td>\n",
       "      <td>Star Wars Ep. VIII: The Last Jedi</td>\n",
       "      <td>317000000</td>\n",
       "      <td>620181382</td>\n",
       "      <td>1316721747</td>\n",
       "      <td>19.574412</td>\n",
       "      <td>1936903129</td>\n",
       "      <td>1619903129</td>\n",
       "      <td>6.110105</td>\n",
       "      <td>12</td>\n",
       "      <td>2017</td>\n",
       "    </tr>\n",
       "    <tr>\n",
       "      <th>5</th>\n",
       "      <td>5</td>\n",
       "      <td>6</td>\n",
       "      <td>2015-12-18</td>\n",
       "      <td>Star Wars Ep. VII: The Force Awakens</td>\n",
       "      <td>306000000</td>\n",
       "      <td>936662225</td>\n",
       "      <td>2053311220</td>\n",
       "      <td>19.539096</td>\n",
       "      <td>2989973445</td>\n",
       "      <td>2683973445</td>\n",
       "      <td>9.771155</td>\n",
       "      <td>12</td>\n",
       "      <td>2015</td>\n",
       "    </tr>\n",
       "    <tr>\n",
       "      <th>...</th>\n",
       "      <td>...</td>\n",
       "      <td>...</td>\n",
       "      <td>...</td>\n",
       "      <td>...</td>\n",
       "      <td>...</td>\n",
       "      <td>...</td>\n",
       "      <td>...</td>\n",
       "      <td>...</td>\n",
       "      <td>...</td>\n",
       "      <td>...</td>\n",
       "      <td>...</td>\n",
       "      <td>...</td>\n",
       "      <td>...</td>\n",
       "    </tr>\n",
       "    <tr>\n",
       "      <th>5761</th>\n",
       "      <td>5761</td>\n",
       "      <td>62</td>\n",
       "      <td>2014-12-31</td>\n",
       "      <td>Stories of Our Lives</td>\n",
       "      <td>15000</td>\n",
       "      <td>0</td>\n",
       "      <td>0</td>\n",
       "      <td>9.615805</td>\n",
       "      <td>0</td>\n",
       "      <td>-15000</td>\n",
       "      <td>0.000000</td>\n",
       "      <td>12</td>\n",
       "      <td>2014</td>\n",
       "    </tr>\n",
       "    <tr>\n",
       "      <th>5771</th>\n",
       "      <td>5771</td>\n",
       "      <td>72</td>\n",
       "      <td>2015-05-19</td>\n",
       "      <td>Family Motocross</td>\n",
       "      <td>10000</td>\n",
       "      <td>0</td>\n",
       "      <td>0</td>\n",
       "      <td>9.210340</td>\n",
       "      <td>0</td>\n",
       "      <td>-10000</td>\n",
       "      <td>0.000000</td>\n",
       "      <td>5</td>\n",
       "      <td>2015</td>\n",
       "    </tr>\n",
       "    <tr>\n",
       "      <th>5772</th>\n",
       "      <td>5772</td>\n",
       "      <td>73</td>\n",
       "      <td>2012-01-13</td>\n",
       "      <td>Newlyweds</td>\n",
       "      <td>9000</td>\n",
       "      <td>4584</td>\n",
       "      <td>4584</td>\n",
       "      <td>9.104980</td>\n",
       "      <td>9168</td>\n",
       "      <td>168</td>\n",
       "      <td>1.018667</td>\n",
       "      <td>1</td>\n",
       "      <td>2012</td>\n",
       "    </tr>\n",
       "    <tr>\n",
       "      <th>5777</th>\n",
       "      <td>5777</td>\n",
       "      <td>78</td>\n",
       "      <td>2018-12-31</td>\n",
       "      <td>Red 11</td>\n",
       "      <td>7000</td>\n",
       "      <td>0</td>\n",
       "      <td>0</td>\n",
       "      <td>8.853665</td>\n",
       "      <td>0</td>\n",
       "      <td>-7000</td>\n",
       "      <td>0.000000</td>\n",
       "      <td>12</td>\n",
       "      <td>2018</td>\n",
       "    </tr>\n",
       "    <tr>\n",
       "      <th>5780</th>\n",
       "      <td>5780</td>\n",
       "      <td>81</td>\n",
       "      <td>2015-09-29</td>\n",
       "      <td>A Plague So Pleasant</td>\n",
       "      <td>1400</td>\n",
       "      <td>0</td>\n",
       "      <td>0</td>\n",
       "      <td>7.244228</td>\n",
       "      <td>0</td>\n",
       "      <td>-1400</td>\n",
       "      <td>0.000000</td>\n",
       "      <td>9</td>\n",
       "      <td>2015</td>\n",
       "    </tr>\n",
       "  </tbody>\n",
       "</table>\n",
       "<p>2191 rows × 13 columns</p>\n",
       "</div>"
      ],
      "text/plain": [
       "       idx  id release_date                                        movie  \\\n",
       "1        1   2   2011-05-20  Pirates of the Caribbean: On Stranger Tides   \n",
       "2        2   3   2019-06-07                                 Dark Phoenix   \n",
       "3        3   4   2015-05-01                      Avengers: Age of Ultron   \n",
       "4        4   5   2017-12-15            Star Wars Ep. VIII: The Last Jedi   \n",
       "5        5   6   2015-12-18         Star Wars Ep. VII: The Force Awakens   \n",
       "...    ...  ..          ...                                          ...   \n",
       "5761  5761  62   2014-12-31                         Stories of Our Lives   \n",
       "5771  5771  72   2015-05-19                             Family Motocross   \n",
       "5772  5772  73   2012-01-13                                    Newlyweds   \n",
       "5777  5777  78   2018-12-31                                       Red 11   \n",
       "5780  5780  81   2015-09-29                         A Plague So Pleasant   \n",
       "\n",
       "      production_budget  domestic_gross  worldwide_gross  logged_budget  \\\n",
       "1             410600000       241063875       1045663875      19.833130   \n",
       "2             350000000        42762350        149762350      19.673444   \n",
       "3             330600000       459005868       1403013963      19.616420   \n",
       "4             317000000       620181382       1316721747      19.574412   \n",
       "5             306000000       936662225       2053311220      19.539096   \n",
       "...                 ...             ...              ...            ...   \n",
       "5761              15000               0                0       9.615805   \n",
       "5771              10000               0                0       9.210340   \n",
       "5772               9000            4584             4584       9.104980   \n",
       "5777               7000               0                0       8.853665   \n",
       "5780               1400               0                0       7.244228   \n",
       "\n",
       "      total_gross  net_profit  return_on_investment  date_month  date_year  \n",
       "1      1286727750   876127750              3.133774           5       2011  \n",
       "2       192524700  -157475300              0.550071           6       2019  \n",
       "3      1862019831  1531419831              5.632244           5       2015  \n",
       "4      1936903129  1619903129              6.110105          12       2017  \n",
       "5      2989973445  2683973445              9.771155          12       2015  \n",
       "...           ...         ...                   ...         ...        ...  \n",
       "5761            0      -15000              0.000000          12       2014  \n",
       "5771            0      -10000              0.000000           5       2015  \n",
       "5772         9168         168              1.018667           1       2012  \n",
       "5777            0       -7000              0.000000          12       2018  \n",
       "5780            0       -1400              0.000000           9       2015  \n",
       "\n",
       "[2191 rows x 13 columns]"
      ]
     },
     "execution_count": 737,
     "metadata": {},
     "output_type": "execute_result"
    }
   ],
   "source": [
    "df = pd.read_sql(\"select * from tn_movie_budgets;\", con)\n",
    "\n",
    "\n",
    "\n",
    "df['production_budget'] = df['production_budget'].str.replace(',', '', regex = True)\n",
    "df['production_budget'] = df['production_budget'].str.replace('$', '', regex = True).astype(int)\n",
    "df['domestic_gross'] = df['domestic_gross'].str.replace(',', '', regex = True)\n",
    "df['domestic_gross'] = df['domestic_gross'].str.replace('$', '', regex = True).astype(int)\n",
    "df['worldwide_gross'] = df['worldwide_gross'].str.replace(',', '', regex = True)\n",
    "df['worldwide_gross'] = df['worldwide_gross'].str.replace('$', '', regex = True).astype(int)\n",
    "df.release_date = pd.to_datetime(df.release_date)\n",
    "df['logged_budget'] = np.log(df['production_budget'])\n",
    "df['total_gross'] = df['worldwide_gross'] + df['domestic_gross'] \n",
    "df['net_profit'] = df['total_gross'] - df['production_budget']\n",
    "df['return_on_investment'] = df['total_gross'] / df['production_budget']\n",
    "df = df[(df['release_date'] >= '2010-01-01') & (df['release_date'] <= '2020-01-01')]\n",
    "month = df['release_date'].apply(lambda x: x.month)\n",
    "year = df['release_date'].apply(lambda x: x.year)\n",
    "df['date_month'] = month\n",
    "df['date_year'] = year\n",
    "df"
   ]
  },
  {
   "cell_type": "code",
   "execution_count": 742,
   "id": "06125baf",
   "metadata": {
    "ExecuteTime": {
     "end_time": "2021-06-09T20:46:54.335291Z",
     "start_time": "2021-06-09T20:46:54.320693Z"
    }
   },
   "outputs": [],
   "source": [
    "df.groupby('production_budget')\n",
    "\n",
    "bud_bins = pd.cut(df['production_budget'], [1000000, 5000000, 10000000, 15000000, 20000000, 50000000, 100000000, 200000000, 400000000])\n",
    "grouped_bins =  df.groupby(bud_bins)['production_budget'].agg(['count'])\n",
    "\n"
   ]
  },
  {
   "cell_type": "code",
   "execution_count": 743,
   "id": "0e0ebadf",
   "metadata": {
    "ExecuteTime": {
     "end_time": "2021-06-09T20:46:54.574805Z",
     "start_time": "2021-06-09T20:46:54.553247Z"
    }
   },
   "outputs": [
    {
     "data": {
      "text/html": [
       "<div>\n",
       "<style scoped>\n",
       "    .dataframe tbody tr th:only-of-type {\n",
       "        vertical-align: middle;\n",
       "    }\n",
       "\n",
       "    .dataframe tbody tr th {\n",
       "        vertical-align: top;\n",
       "    }\n",
       "\n",
       "    .dataframe thead th {\n",
       "        text-align: right;\n",
       "    }\n",
       "</style>\n",
       "<table border=\"1\" class=\"dataframe\">\n",
       "  <thead>\n",
       "    <tr style=\"text-align: right;\">\n",
       "      <th></th>\n",
       "      <th>idx</th>\n",
       "      <th>id</th>\n",
       "      <th>release_date</th>\n",
       "      <th>movie</th>\n",
       "      <th>production_budget</th>\n",
       "      <th>domestic_gross</th>\n",
       "      <th>worldwide_gross</th>\n",
       "      <th>logged_budget</th>\n",
       "      <th>total_gross</th>\n",
       "      <th>net_profit</th>\n",
       "      <th>return_on_investment</th>\n",
       "      <th>date_month</th>\n",
       "      <th>date_year</th>\n",
       "    </tr>\n",
       "  </thead>\n",
       "  <tbody>\n",
       "    <tr>\n",
       "      <th>1</th>\n",
       "      <td>1</td>\n",
       "      <td>2</td>\n",
       "      <td>2011-05-20</td>\n",
       "      <td>Pirates of the Caribbean: On Stranger Tides</td>\n",
       "      <td>410600000</td>\n",
       "      <td>241063875</td>\n",
       "      <td>1045663875</td>\n",
       "      <td>19.833130</td>\n",
       "      <td>1286727750</td>\n",
       "      <td>876127750</td>\n",
       "      <td>3.133774</td>\n",
       "      <td>5</td>\n",
       "      <td>2011</td>\n",
       "    </tr>\n",
       "    <tr>\n",
       "      <th>2</th>\n",
       "      <td>2</td>\n",
       "      <td>3</td>\n",
       "      <td>2019-06-07</td>\n",
       "      <td>Dark Phoenix</td>\n",
       "      <td>350000000</td>\n",
       "      <td>42762350</td>\n",
       "      <td>149762350</td>\n",
       "      <td>19.673444</td>\n",
       "      <td>192524700</td>\n",
       "      <td>-157475300</td>\n",
       "      <td>0.550071</td>\n",
       "      <td>6</td>\n",
       "      <td>2019</td>\n",
       "    </tr>\n",
       "    <tr>\n",
       "      <th>3</th>\n",
       "      <td>3</td>\n",
       "      <td>4</td>\n",
       "      <td>2015-05-01</td>\n",
       "      <td>Avengers: Age of Ultron</td>\n",
       "      <td>330600000</td>\n",
       "      <td>459005868</td>\n",
       "      <td>1403013963</td>\n",
       "      <td>19.616420</td>\n",
       "      <td>1862019831</td>\n",
       "      <td>1531419831</td>\n",
       "      <td>5.632244</td>\n",
       "      <td>5</td>\n",
       "      <td>2015</td>\n",
       "    </tr>\n",
       "    <tr>\n",
       "      <th>4</th>\n",
       "      <td>4</td>\n",
       "      <td>5</td>\n",
       "      <td>2017-12-15</td>\n",
       "      <td>Star Wars Ep. VIII: The Last Jedi</td>\n",
       "      <td>317000000</td>\n",
       "      <td>620181382</td>\n",
       "      <td>1316721747</td>\n",
       "      <td>19.574412</td>\n",
       "      <td>1936903129</td>\n",
       "      <td>1619903129</td>\n",
       "      <td>6.110105</td>\n",
       "      <td>12</td>\n",
       "      <td>2017</td>\n",
       "    </tr>\n",
       "    <tr>\n",
       "      <th>5</th>\n",
       "      <td>5</td>\n",
       "      <td>6</td>\n",
       "      <td>2015-12-18</td>\n",
       "      <td>Star Wars Ep. VII: The Force Awakens</td>\n",
       "      <td>306000000</td>\n",
       "      <td>936662225</td>\n",
       "      <td>2053311220</td>\n",
       "      <td>19.539096</td>\n",
       "      <td>2989973445</td>\n",
       "      <td>2683973445</td>\n",
       "      <td>9.771155</td>\n",
       "      <td>12</td>\n",
       "      <td>2015</td>\n",
       "    </tr>\n",
       "    <tr>\n",
       "      <th>...</th>\n",
       "      <td>...</td>\n",
       "      <td>...</td>\n",
       "      <td>...</td>\n",
       "      <td>...</td>\n",
       "      <td>...</td>\n",
       "      <td>...</td>\n",
       "      <td>...</td>\n",
       "      <td>...</td>\n",
       "      <td>...</td>\n",
       "      <td>...</td>\n",
       "      <td>...</td>\n",
       "      <td>...</td>\n",
       "      <td>...</td>\n",
       "    </tr>\n",
       "    <tr>\n",
       "      <th>5761</th>\n",
       "      <td>5761</td>\n",
       "      <td>62</td>\n",
       "      <td>2014-12-31</td>\n",
       "      <td>Stories of Our Lives</td>\n",
       "      <td>15000</td>\n",
       "      <td>0</td>\n",
       "      <td>0</td>\n",
       "      <td>9.615805</td>\n",
       "      <td>0</td>\n",
       "      <td>-15000</td>\n",
       "      <td>0.000000</td>\n",
       "      <td>12</td>\n",
       "      <td>2014</td>\n",
       "    </tr>\n",
       "    <tr>\n",
       "      <th>5771</th>\n",
       "      <td>5771</td>\n",
       "      <td>72</td>\n",
       "      <td>2015-05-19</td>\n",
       "      <td>Family Motocross</td>\n",
       "      <td>10000</td>\n",
       "      <td>0</td>\n",
       "      <td>0</td>\n",
       "      <td>9.210340</td>\n",
       "      <td>0</td>\n",
       "      <td>-10000</td>\n",
       "      <td>0.000000</td>\n",
       "      <td>5</td>\n",
       "      <td>2015</td>\n",
       "    </tr>\n",
       "    <tr>\n",
       "      <th>5772</th>\n",
       "      <td>5772</td>\n",
       "      <td>73</td>\n",
       "      <td>2012-01-13</td>\n",
       "      <td>Newlyweds</td>\n",
       "      <td>9000</td>\n",
       "      <td>4584</td>\n",
       "      <td>4584</td>\n",
       "      <td>9.104980</td>\n",
       "      <td>9168</td>\n",
       "      <td>168</td>\n",
       "      <td>1.018667</td>\n",
       "      <td>1</td>\n",
       "      <td>2012</td>\n",
       "    </tr>\n",
       "    <tr>\n",
       "      <th>5777</th>\n",
       "      <td>5777</td>\n",
       "      <td>78</td>\n",
       "      <td>2018-12-31</td>\n",
       "      <td>Red 11</td>\n",
       "      <td>7000</td>\n",
       "      <td>0</td>\n",
       "      <td>0</td>\n",
       "      <td>8.853665</td>\n",
       "      <td>0</td>\n",
       "      <td>-7000</td>\n",
       "      <td>0.000000</td>\n",
       "      <td>12</td>\n",
       "      <td>2018</td>\n",
       "    </tr>\n",
       "    <tr>\n",
       "      <th>5780</th>\n",
       "      <td>5780</td>\n",
       "      <td>81</td>\n",
       "      <td>2015-09-29</td>\n",
       "      <td>A Plague So Pleasant</td>\n",
       "      <td>1400</td>\n",
       "      <td>0</td>\n",
       "      <td>0</td>\n",
       "      <td>7.244228</td>\n",
       "      <td>0</td>\n",
       "      <td>-1400</td>\n",
       "      <td>0.000000</td>\n",
       "      <td>9</td>\n",
       "      <td>2015</td>\n",
       "    </tr>\n",
       "  </tbody>\n",
       "</table>\n",
       "<p>2191 rows × 13 columns</p>\n",
       "</div>"
      ],
      "text/plain": [
       "       idx  id release_date                                        movie  \\\n",
       "1        1   2   2011-05-20  Pirates of the Caribbean: On Stranger Tides   \n",
       "2        2   3   2019-06-07                                 Dark Phoenix   \n",
       "3        3   4   2015-05-01                      Avengers: Age of Ultron   \n",
       "4        4   5   2017-12-15            Star Wars Ep. VIII: The Last Jedi   \n",
       "5        5   6   2015-12-18         Star Wars Ep. VII: The Force Awakens   \n",
       "...    ...  ..          ...                                          ...   \n",
       "5761  5761  62   2014-12-31                         Stories of Our Lives   \n",
       "5771  5771  72   2015-05-19                             Family Motocross   \n",
       "5772  5772  73   2012-01-13                                    Newlyweds   \n",
       "5777  5777  78   2018-12-31                                       Red 11   \n",
       "5780  5780  81   2015-09-29                         A Plague So Pleasant   \n",
       "\n",
       "      production_budget  domestic_gross  worldwide_gross  logged_budget  \\\n",
       "1             410600000       241063875       1045663875      19.833130   \n",
       "2             350000000        42762350        149762350      19.673444   \n",
       "3             330600000       459005868       1403013963      19.616420   \n",
       "4             317000000       620181382       1316721747      19.574412   \n",
       "5             306000000       936662225       2053311220      19.539096   \n",
       "...                 ...             ...              ...            ...   \n",
       "5761              15000               0                0       9.615805   \n",
       "5771              10000               0                0       9.210340   \n",
       "5772               9000            4584             4584       9.104980   \n",
       "5777               7000               0                0       8.853665   \n",
       "5780               1400               0                0       7.244228   \n",
       "\n",
       "      total_gross  net_profit  return_on_investment  date_month  date_year  \n",
       "1      1286727750   876127750              3.133774           5       2011  \n",
       "2       192524700  -157475300              0.550071           6       2019  \n",
       "3      1862019831  1531419831              5.632244           5       2015  \n",
       "4      1936903129  1619903129              6.110105          12       2017  \n",
       "5      2989973445  2683973445              9.771155          12       2015  \n",
       "...           ...         ...                   ...         ...        ...  \n",
       "5761            0      -15000              0.000000          12       2014  \n",
       "5771            0      -10000              0.000000           5       2015  \n",
       "5772         9168         168              1.018667           1       2012  \n",
       "5777            0       -7000              0.000000          12       2018  \n",
       "5780            0       -1400              0.000000           9       2015  \n",
       "\n",
       "[2191 rows x 13 columns]"
      ]
     },
     "execution_count": 743,
     "metadata": {},
     "output_type": "execute_result"
    }
   ],
   "source": [
    "df"
   ]
  },
  {
   "cell_type": "code",
   "execution_count": 744,
   "id": "23e8ef30",
   "metadata": {
    "ExecuteTime": {
     "end_time": "2021-06-09T20:46:54.752050Z",
     "start_time": "2021-06-09T20:46:54.748367Z"
    }
   },
   "outputs": [],
   "source": [
    "df['budget_bins'] = bud_bins"
   ]
  },
  {
   "cell_type": "code",
   "execution_count": 969,
   "id": "11c047b5",
   "metadata": {
    "ExecuteTime": {
     "end_time": "2021-06-10T01:19:09.501739Z",
     "start_time": "2021-06-10T01:19:09.496225Z"
    }
   },
   "outputs": [],
   "source": [
    "bins = df.budget_bins.unique()"
   ]
  },
  {
   "cell_type": "code",
   "execution_count": 746,
   "id": "8bcee3b4",
   "metadata": {
    "ExecuteTime": {
     "end_time": "2021-06-09T20:46:55.461801Z",
     "start_time": "2021-06-09T20:46:55.457399Z"
    }
   },
   "outputs": [
    {
     "data": {
      "text/plain": [
       "390"
      ]
     },
     "execution_count": 746,
     "metadata": {},
     "output_type": "execute_result"
    }
   ],
   "source": [
    "grouped_bins.loc[bin_]['count']"
   ]
  },
  {
   "cell_type": "code",
   "execution_count": 747,
   "id": "dea8cc04",
   "metadata": {
    "ExecuteTime": {
     "end_time": "2021-06-09T20:46:56.668934Z",
     "start_time": "2021-06-09T20:46:56.664846Z"
    }
   },
   "outputs": [],
   "source": [
    "\n",
    "def probability(bins, num):\n",
    "    probabilities = {}\n",
    "    for bin_ in bins:\n",
    "        frame = df[(df.budget_bins == bin_) & (df.return_on_investment >= num)]\n",
    "        total_in_budget_bin = grouped_bins.loc[bin_]['count']\n",
    "        number_with_high_ri = frame.shape[0]\n",
    "        probability = number_with_high_ri/total_in_budget_bin\n",
    "        probabilities[bin_] = probability\n",
    "    probabilities = dict(sorted(probabilities.items(), key=lambda x: x[0]))\n",
    "    return probabilities"
   ]
  },
  {
   "cell_type": "code",
   "execution_count": 748,
   "id": "10198b98",
   "metadata": {
    "ExecuteTime": {
     "end_time": "2021-06-09T20:46:57.313179Z",
     "start_time": "2021-06-09T20:46:57.254175Z"
    }
   },
   "outputs": [],
   "source": [
    "probabilities = probability(bins, 2)\n",
    "probabilities5 = probability(bins, 5)\n",
    "probabilities7 = probability(bins, 7)\n",
    "probabilities10 = probability(bins, 10)"
   ]
  },
  {
   "cell_type": "code",
   "execution_count": 749,
   "id": "c532a138",
   "metadata": {
    "ExecuteTime": {
     "end_time": "2021-06-09T20:46:58.113961Z",
     "start_time": "2021-06-09T20:46:57.620048Z"
    },
    "scrolled": false
   },
   "outputs": [
    {
     "data": {
      "text/plain": [
       "(0.01, 0.9)"
      ]
     },
     "execution_count": 749,
     "metadata": {},
     "output_type": "execute_result"
    },
    {
     "data": {
      "image/png": "[encoded data removed]",
      "text/plain": [
       "<Figure size 1224x936 with 4 Axes>"
      ]
     },
     "metadata": {},
     "output_type": "display_data"
    }
   ],
   "source": [
    "fig, ax = plt.subplots(2, 2, figsize=(17,13))\n",
    "plt.ylim(.01,.9)\n",
    "ax[0,0].bar([f'{_.left}\\nto\\n{_.right}' for _ in probabilities], probabilities.values(), color='orange', alpha=.8)\n",
    "ax[0,0].set_ylim(.01,.9)\n",
    "ax[0,1].bar([f'{_.left}\\nto\\n{_.right}' for _ in probabilities5], probabilities5.values(), color='r', alpha=.8)\n",
    "ax[0,1].set_ylim(.01,.9)\n",
    "ax[1,0].bar([f'{_.left}\\nto\\n{_.right}' for _ in probabilities7], probabilities7.values(), color='b', alpha=.8)\n",
    "ax[1,0].set_ylim(.01,.9)\n",
    "ax[1,1].bar([f'{_.left}\\nto\\n{_.right}' for _ in probabilities10], probabilities10.values(), color='g', alpha=.8)\n",
    "ax[1,1].set_ylim(.01,.9)\n",
    "#ax.set_xlabel('budget in dollars')\n",
    "#ax.set_ylabel('probability that a film recoups its production and marketing budget')"
   ]
  },
  {
   "cell_type": "markdown",
   "id": "b2a67b16",
   "metadata": {},
   "source": [
    "IGNORE EVERYTHING BELOW THIS "
   ]
  },
  {
   "cell_type": "code",
   "execution_count": 847,
   "id": "357e5907",
   "metadata": {
    "ExecuteTime": {
     "end_time": "2021-06-09T21:13:54.243915Z",
     "start_time": "2021-06-09T21:13:53.678041Z"
    }
   },
   "outputs": [
    {
     "data": {
      "text/html": [
       "<div>\n",
       "<style scoped>\n",
       "    .dataframe tbody tr th:only-of-type {\n",
       "        vertical-align: middle;\n",
       "    }\n",
       "\n",
       "    .dataframe tbody tr th {\n",
       "        vertical-align: top;\n",
       "    }\n",
       "\n",
       "    .dataframe thead th {\n",
       "        text-align: right;\n",
       "    }\n",
       "</style>\n",
       "<table border=\"1\" class=\"dataframe\">\n",
       "  <thead>\n",
       "    <tr style=\"text-align: right;\">\n",
       "      <th></th>\n",
       "      <th>id</th>\n",
       "      <th>release_date</th>\n",
       "      <th>movie</th>\n",
       "      <th>production_budget</th>\n",
       "      <th>domestic_gross</th>\n",
       "      <th>worldwide_gross</th>\n",
       "      <th>id_x</th>\n",
       "      <th>logged_budget</th>\n",
       "      <th>total_gross</th>\n",
       "      <th>net_profit</th>\n",
       "      <th>return_on_investment</th>\n",
       "      <th>date_month</th>\n",
       "      <th>date_year</th>\n",
       "    </tr>\n",
       "  </thead>\n",
       "  <tbody>\n",
       "    <tr>\n",
       "      <th>1</th>\n",
       "      <td>2</td>\n",
       "      <td>2011-05-20</td>\n",
       "      <td>Pirates of the Caribbean: On Stranger Tides</td>\n",
       "      <td>410600000</td>\n",
       "      <td>241063875</td>\n",
       "      <td>1045663875</td>\n",
       "      <td>1</td>\n",
       "      <td>19.833130</td>\n",
       "      <td>1286727750</td>\n",
       "      <td>876127750</td>\n",
       "      <td>3.133774</td>\n",
       "      <td>5</td>\n",
       "      <td>2011</td>\n",
       "    </tr>\n",
       "    <tr>\n",
       "      <th>2</th>\n",
       "      <td>3</td>\n",
       "      <td>2019-06-07</td>\n",
       "      <td>Dark Phoenix</td>\n",
       "      <td>350000000</td>\n",
       "      <td>42762350</td>\n",
       "      <td>149762350</td>\n",
       "      <td>2</td>\n",
       "      <td>19.673444</td>\n",
       "      <td>192524700</td>\n",
       "      <td>-157475300</td>\n",
       "      <td>0.550071</td>\n",
       "      <td>6</td>\n",
       "      <td>2019</td>\n",
       "    </tr>\n",
       "    <tr>\n",
       "      <th>3</th>\n",
       "      <td>4</td>\n",
       "      <td>2015-05-01</td>\n",
       "      <td>Avengers: Age of Ultron</td>\n",
       "      <td>330600000</td>\n",
       "      <td>459005868</td>\n",
       "      <td>1403013963</td>\n",
       "      <td>3</td>\n",
       "      <td>19.616420</td>\n",
       "      <td>1862019831</td>\n",
       "      <td>1531419831</td>\n",
       "      <td>5.632244</td>\n",
       "      <td>5</td>\n",
       "      <td>2015</td>\n",
       "    </tr>\n",
       "    <tr>\n",
       "      <th>4</th>\n",
       "      <td>5</td>\n",
       "      <td>2017-12-15</td>\n",
       "      <td>Star Wars Ep. VIII: The Last Jedi</td>\n",
       "      <td>317000000</td>\n",
       "      <td>620181382</td>\n",
       "      <td>1316721747</td>\n",
       "      <td>4</td>\n",
       "      <td>19.574412</td>\n",
       "      <td>1936903129</td>\n",
       "      <td>1619903129</td>\n",
       "      <td>6.110105</td>\n",
       "      <td>12</td>\n",
       "      <td>2017</td>\n",
       "    </tr>\n",
       "    <tr>\n",
       "      <th>5</th>\n",
       "      <td>6</td>\n",
       "      <td>2015-12-18</td>\n",
       "      <td>Star Wars Ep. VII: The Force Awakens</td>\n",
       "      <td>306000000</td>\n",
       "      <td>936662225</td>\n",
       "      <td>2053311220</td>\n",
       "      <td>5</td>\n",
       "      <td>19.539096</td>\n",
       "      <td>2989973445</td>\n",
       "      <td>2683973445</td>\n",
       "      <td>9.771155</td>\n",
       "      <td>12</td>\n",
       "      <td>2015</td>\n",
       "    </tr>\n",
       "    <tr>\n",
       "      <th>...</th>\n",
       "      <td>...</td>\n",
       "      <td>...</td>\n",
       "      <td>...</td>\n",
       "      <td>...</td>\n",
       "      <td>...</td>\n",
       "      <td>...</td>\n",
       "      <td>...</td>\n",
       "      <td>...</td>\n",
       "      <td>...</td>\n",
       "      <td>...</td>\n",
       "      <td>...</td>\n",
       "      <td>...</td>\n",
       "      <td>...</td>\n",
       "    </tr>\n",
       "    <tr>\n",
       "      <th>5761</th>\n",
       "      <td>62</td>\n",
       "      <td>2014-12-31</td>\n",
       "      <td>Stories of Our Lives</td>\n",
       "      <td>15000</td>\n",
       "      <td>0</td>\n",
       "      <td>0</td>\n",
       "      <td>5761</td>\n",
       "      <td>9.615805</td>\n",
       "      <td>0</td>\n",
       "      <td>-15000</td>\n",
       "      <td>0.000000</td>\n",
       "      <td>12</td>\n",
       "      <td>2014</td>\n",
       "    </tr>\n",
       "    <tr>\n",
       "      <th>5771</th>\n",
       "      <td>72</td>\n",
       "      <td>2015-05-19</td>\n",
       "      <td>Family Motocross</td>\n",
       "      <td>10000</td>\n",
       "      <td>0</td>\n",
       "      <td>0</td>\n",
       "      <td>5771</td>\n",
       "      <td>9.210340</td>\n",
       "      <td>0</td>\n",
       "      <td>-10000</td>\n",
       "      <td>0.000000</td>\n",
       "      <td>5</td>\n",
       "      <td>2015</td>\n",
       "    </tr>\n",
       "    <tr>\n",
       "      <th>5772</th>\n",
       "      <td>73</td>\n",
       "      <td>2012-01-13</td>\n",
       "      <td>Newlyweds</td>\n",
       "      <td>9000</td>\n",
       "      <td>4584</td>\n",
       "      <td>4584</td>\n",
       "      <td>5772</td>\n",
       "      <td>9.104980</td>\n",
       "      <td>9168</td>\n",
       "      <td>168</td>\n",
       "      <td>1.018667</td>\n",
       "      <td>1</td>\n",
       "      <td>2012</td>\n",
       "    </tr>\n",
       "    <tr>\n",
       "      <th>5777</th>\n",
       "      <td>78</td>\n",
       "      <td>2018-12-31</td>\n",
       "      <td>Red 11</td>\n",
       "      <td>7000</td>\n",
       "      <td>0</td>\n",
       "      <td>0</td>\n",
       "      <td>5777</td>\n",
       "      <td>8.853665</td>\n",
       "      <td>0</td>\n",
       "      <td>-7000</td>\n",
       "      <td>0.000000</td>\n",
       "      <td>12</td>\n",
       "      <td>2018</td>\n",
       "    </tr>\n",
       "    <tr>\n",
       "      <th>5780</th>\n",
       "      <td>81</td>\n",
       "      <td>2015-09-29</td>\n",
       "      <td>A Plague So Pleasant</td>\n",
       "      <td>1400</td>\n",
       "      <td>0</td>\n",
       "      <td>0</td>\n",
       "      <td>5780</td>\n",
       "      <td>7.244228</td>\n",
       "      <td>0</td>\n",
       "      <td>-1400</td>\n",
       "      <td>0.000000</td>\n",
       "      <td>9</td>\n",
       "      <td>2015</td>\n",
       "    </tr>\n",
       "  </tbody>\n",
       "</table>\n",
       "<p>2191 rows × 13 columns</p>\n",
       "</div>"
      ],
      "text/plain": [
       "      id release_date                                        movie  \\\n",
       "1      2   2011-05-20  Pirates of the Caribbean: On Stranger Tides   \n",
       "2      3   2019-06-07                                 Dark Phoenix   \n",
       "3      4   2015-05-01                      Avengers: Age of Ultron   \n",
       "4      5   2017-12-15            Star Wars Ep. VIII: The Last Jedi   \n",
       "5      6   2015-12-18         Star Wars Ep. VII: The Force Awakens   \n",
       "...   ..          ...                                          ...   \n",
       "5761  62   2014-12-31                         Stories of Our Lives   \n",
       "5771  72   2015-05-19                             Family Motocross   \n",
       "5772  73   2012-01-13                                    Newlyweds   \n",
       "5777  78   2018-12-31                                       Red 11   \n",
       "5780  81   2015-09-29                         A Plague So Pleasant   \n",
       "\n",
       "      production_budget  domestic_gross  worldwide_gross  id_x  logged_budget  \\\n",
       "1             410600000       241063875       1045663875     1      19.833130   \n",
       "2             350000000        42762350        149762350     2      19.673444   \n",
       "3             330600000       459005868       1403013963     3      19.616420   \n",
       "4             317000000       620181382       1316721747     4      19.574412   \n",
       "5             306000000       936662225       2053311220     5      19.539096   \n",
       "...                 ...             ...              ...   ...            ...   \n",
       "5761              15000               0                0  5761       9.615805   \n",
       "5771              10000               0                0  5771       9.210340   \n",
       "5772               9000            4584             4584  5772       9.104980   \n",
       "5777               7000               0                0  5777       8.853665   \n",
       "5780               1400               0                0  5780       7.244228   \n",
       "\n",
       "      total_gross  net_profit  return_on_investment  date_month  date_year  \n",
       "1      1286727750   876127750              3.133774           5       2011  \n",
       "2       192524700  -157475300              0.550071           6       2019  \n",
       "3      1862019831  1531419831              5.632244           5       2015  \n",
       "4      1936903129  1619903129              6.110105          12       2017  \n",
       "5      2989973445  2683973445              9.771155          12       2015  \n",
       "...           ...         ...                   ...         ...        ...  \n",
       "5761            0      -15000              0.000000          12       2014  \n",
       "5771            0      -10000              0.000000           5       2015  \n",
       "5772         9168         168              1.018667           1       2012  \n",
       "5777            0       -7000              0.000000          12       2018  \n",
       "5780            0       -1400              0.000000           9       2015  \n",
       "\n",
       "[2191 rows x 13 columns]"
      ]
     },
     "execution_count": 847,
     "metadata": {},
     "output_type": "execute_result"
    }
   ],
   "source": [
    "tn = pd.read_sql('''SELECT *\n",
    "                 FROM tn_movie_budgets AS tn\n",
    "                 ''', con)\n",
    "tn['id_x'] = tn['idx']\n",
    "tn.drop(tn.columns[0], axis=1, inplace=True)\n",
    "tn['production_budget'] = tn['production_budget'].str.replace(',', '', regex = True)\n",
    "tn['production_budget'] = tn['production_budget'].str.replace('$', '', regex = True).astype(int)\n",
    "tn['domestic_gross'] = tn['domestic_gross'].str.replace(',', '', regex = True)\n",
    "tn['domestic_gross'] = tn['domestic_gross'].str.replace('$', '', regex = True).astype(int)\n",
    "tn['worldwide_gross'] = tn['worldwide_gross'].str.replace(',', '', regex = True)\n",
    "tn['worldwide_gross'] = tn['worldwide_gross'].str.replace('$', '', regex = True).astype(int)\n",
    "tn.release_date = pd.to_datetime(tn.release_date)\n",
    "tn['logged_budget'] = np.log(tn['production_budget'])\n",
    "tn['total_gross'] = tn['worldwide_gross'] + tn['domestic_gross'] \n",
    "tn['net_profit'] = tn['total_gross'] - tn['production_budget']\n",
    "tn['return_on_investment'] = df['total_gross'] / tn['production_budget']\n",
    "tn = tn[(tn['release_date'] >= '2010-01-01') & (tn['release_date'] <= '2020-01-01')]\n",
    "month = tn['release_date'].apply(lambda x: x.month)\n",
    "year = tn['release_date'].apply(lambda x: x.year)\n",
    "tn['date_month'] = month\n",
    "tn['date_year'] = year\n",
    "tn"
   ]
  },
  {
   "cell_type": "code",
   "execution_count": 848,
   "id": "90190215",
   "metadata": {
    "ExecuteTime": {
     "end_time": "2021-06-09T21:13:54.255662Z",
     "start_time": "2021-06-09T21:13:54.246315Z"
    }
   },
   "outputs": [
    {
     "ename": "AttributeError",
     "evalue": "'DataFrame' object has no attribute 'genres'",
     "output_type": "error",
     "traceback": [
      "\u001b[0;31m---------------------------------------------------------------------------\u001b[0m",
      "\u001b[0;31mAttributeError\u001b[0m                            Traceback (most recent call last)",
      "\u001b[0;32m<ipython-input-848-39f9ac152e11>\u001b[0m in \u001b[0;36m<module>\u001b[0;34m\u001b[0m\n\u001b[0;32m----> 1\u001b[0;31m \u001b[0mdf\u001b[0m\u001b[0;34m.\u001b[0m\u001b[0mgenres\u001b[0m\u001b[0;34m\u001b[0m\u001b[0;34m\u001b[0m\u001b[0m\n\u001b[0m",
      "\u001b[0;32m~/opt/anaconda3/envs/learn-env/lib/python3.8/site-packages/pandas/core/generic.py\u001b[0m in \u001b[0;36m__getattr__\u001b[0;34m(self, name)\u001b[0m\n\u001b[1;32m   5137\u001b[0m             \u001b[0;32mif\u001b[0m \u001b[0mself\u001b[0m\u001b[0;34m.\u001b[0m\u001b[0m_info_axis\u001b[0m\u001b[0;34m.\u001b[0m\u001b[0m_can_hold_identifiers_and_holds_name\u001b[0m\u001b[0;34m(\u001b[0m\u001b[0mname\u001b[0m\u001b[0;34m)\u001b[0m\u001b[0;34m:\u001b[0m\u001b[0;34m\u001b[0m\u001b[0;34m\u001b[0m\u001b[0m\n\u001b[1;32m   5138\u001b[0m                 \u001b[0;32mreturn\u001b[0m \u001b[0mself\u001b[0m\u001b[0;34m[\u001b[0m\u001b[0mname\u001b[0m\u001b[0;34m]\u001b[0m\u001b[0;34m\u001b[0m\u001b[0;34m\u001b[0m\u001b[0m\n\u001b[0;32m-> 5139\u001b[0;31m             \u001b[0;32mreturn\u001b[0m \u001b[0mobject\u001b[0m\u001b[0;34m.\u001b[0m\u001b[0m__getattribute__\u001b[0m\u001b[0;34m(\u001b[0m\u001b[0mself\u001b[0m\u001b[0;34m,\u001b[0m \u001b[0mname\u001b[0m\u001b[0;34m)\u001b[0m\u001b[0;34m\u001b[0m\u001b[0;34m\u001b[0m\u001b[0m\n\u001b[0m\u001b[1;32m   5140\u001b[0m \u001b[0;34m\u001b[0m\u001b[0m\n\u001b[1;32m   5141\u001b[0m     \u001b[0;32mdef\u001b[0m \u001b[0m__setattr__\u001b[0m\u001b[0;34m(\u001b[0m\u001b[0mself\u001b[0m\u001b[0;34m,\u001b[0m \u001b[0mname\u001b[0m\u001b[0;34m:\u001b[0m \u001b[0mstr\u001b[0m\u001b[0;34m,\u001b[0m \u001b[0mvalue\u001b[0m\u001b[0;34m)\u001b[0m \u001b[0;34m->\u001b[0m \u001b[0;32mNone\u001b[0m\u001b[0;34m:\u001b[0m\u001b[0;34m\u001b[0m\u001b[0;34m\u001b[0m\u001b[0m\n",
      "\u001b[0;31mAttributeError\u001b[0m: 'DataFrame' object has no attribute 'genres'"
     ]
    }
   ],
   "source": [
    "df.genres"
   ]
  },
  {
   "cell_type": "code",
   "execution_count": 953,
   "id": "415025f6",
   "metadata": {
    "ExecuteTime": {
     "end_time": "2021-06-09T22:26:33.643562Z",
     "start_time": "2021-06-09T22:26:33.103753Z"
    }
   },
   "outputs": [],
   "source": [
    "imdb = pd.read_sql('''SELECT distinct release_date, movie, production_budget, domestic_gross, worldwide_gross, genres  \n",
    "                    FROM tn_movie_budgets AS tn\n",
    "                     JOIN imdb_title_basics AS imdb\n",
    "                 ON tn.movie = imdb.primary_title\n",
    "   \n",
    "                    ;''', con)\n",
    "\n",
    "# SUBSTRING(release_date, CHARINDEX(release_date) + 8, 12) AS year\n",
    "\n",
    "            #  AND tn.year = imdb.start_year"
   ]
  },
  {
   "cell_type": "code",
   "execution_count": 954,
   "id": "716370ab",
   "metadata": {
    "ExecuteTime": {
     "end_time": "2021-06-09T22:26:33.669128Z",
     "start_time": "2021-06-09T22:26:33.646523Z"
    },
    "scrolled": true
   },
   "outputs": [],
   "source": [
    "imdb_copy = imdb.copy() #shallow copy\n",
    "imdb_copy.genres = imdb_copy.genres.str.split(',') #this performs the split on the same column of data\n",
    "imdb_copy = imdb_copy.explode('genres') #this explodes the newly created column and saves it to a new df\n",
    "imdb_copy.drop_duplicates(subset=['genres', 'movie'], keep='last', inplace = True)\n",
    "#imdb_copy.head(50)"
   ]
  },
  {
   "cell_type": "code",
   "execution_count": 955,
   "id": "b126561a",
   "metadata": {
    "ExecuteTime": {
     "end_time": "2021-06-09T22:26:33.849047Z",
     "start_time": "2021-06-09T22:26:33.671744Z"
    }
   },
   "outputs": [],
   "source": [
    "imdb_copy['production_budget'] = imdb_copy['production_budget'].str.replace(',', '', regex = True)\n",
    "imdb_copy['production_budget'] = imdb_copy['production_budget'].str.replace('$', '', regex = True).astype(int)\n",
    "imdb_copy['domestic_gross'] = imdb_copy['domestic_gross'].str.replace(',', '', regex = True)\n",
    "imdb_copy['domestic_gross'] = imdb_copy['domestic_gross'].str.replace('$', '', regex = True).astype(int)\n",
    "imdb_copy['worldwide_gross'] = imdb_copy['worldwide_gross'].str.replace(',', '', regex = True)\n",
    "imdb_copy['worldwide_gross'] = imdb_copy['worldwide_gross'].str.replace('$', '', regex = True).astype(int)\n",
    "imdb_copy.release_date = pd.to_datetime(imdb_copy.release_date)\n",
    "imdb_copy['logged_budget'] = np.log(imdb_copy['production_budget'])\n",
    "imdb_copy['total_gross'] = imdb_copy['worldwide_gross'] + imdb_copy['domestic_gross'] \n",
    "imdb_copy['net_profit'] = imdb_copy['total_gross'] - imdb_copy['production_budget']\n",
    "imdb_copy['return_on_investment'] = imdb_copy['total_gross'] / imdb_copy['production_budget']\n",
    "imdb_copy = imdb_copy[(imdb_copy['release_date'] >= '2010-01-01') & (imdb_copy['release_date'] <= '2019-01-01')]\n",
    "imdb_copy = imdb_copy[(imdb_copy['production_budget'] >= 5000000) & (imdb_copy['production_budget'] <= 45000000)]\n",
    "month = imdb_copy['release_date'].apply(lambda x: x.month)\n",
    "year = imdb_copy['release_date'].apply(lambda x: x.year)\n",
    "imdb_copy['date_month'] = month\n",
    "imdb_copy['date_year'] = year"
   ]
  },
  {
   "cell_type": "code",
   "execution_count": 956,
   "id": "844c9395",
   "metadata": {
    "ExecuteTime": {
     "end_time": "2021-06-09T22:26:34.361494Z",
     "start_time": "2021-06-09T22:26:34.352420Z"
    }
   },
   "outputs": [
    {
     "data": {
      "text/plain": [
       "Drama          555\n",
       "Comedy         340\n",
       "Action         211\n",
       "Crime          190\n",
       "Thriller       183\n",
       "Romance        160\n",
       "Horror         128\n",
       "Biography      127\n",
       "Adventure      103\n",
       "Mystery         91\n",
       "Documentary     79\n",
       "Sci-Fi          55\n",
       "Family          53\n",
       "Fantasy         49\n",
       "Music           45\n",
       "History         43\n",
       "Sport           32\n",
       "Animation       27\n",
       "War             19\n",
       "Western          8\n",
       "Musical          3\n",
       "News             3\n",
       "Name: genres, dtype: int64"
      ]
     },
     "execution_count": 956,
     "metadata": {},
     "output_type": "execute_result"
    }
   ],
   "source": [
    "imdb_copy.genres.value_counts()\n"
   ]
  },
  {
   "cell_type": "code",
   "execution_count": 957,
   "id": "a3e05e07",
   "metadata": {
    "ExecuteTime": {
     "end_time": "2021-06-09T22:26:34.677719Z",
     "start_time": "2021-06-09T22:26:34.671738Z"
    }
   },
   "outputs": [
    {
     "data": {
      "text/plain": [
       "['Drama',\n",
       " 'Comedy',\n",
       " 'Action',\n",
       " 'Crime',\n",
       " 'Thriller',\n",
       " 'Romance',\n",
       " 'Horror',\n",
       " 'Biography']"
      ]
     },
     "execution_count": 957,
     "metadata": {},
     "output_type": "execute_result"
    }
   ],
   "source": [
    "good_genres = imdb_copy.genres.value_counts().index[:8].tolist()\n",
    "\n",
    "good_genres"
   ]
  },
  {
   "cell_type": "code",
   "execution_count": 958,
   "id": "1581f651",
   "metadata": {
    "ExecuteTime": {
     "end_time": "2021-06-09T22:26:37.174051Z",
     "start_time": "2021-06-09T22:26:37.164703Z"
    },
    "scrolled": true
   },
   "outputs": [
    {
     "data": {
      "text/plain": [
       "Drama        555\n",
       "Comedy       340\n",
       "Action       211\n",
       "Crime        190\n",
       "Thriller     183\n",
       "Romance      160\n",
       "Horror       128\n",
       "Biography    127\n",
       "Name: genres, dtype: int64"
      ]
     },
     "execution_count": 958,
     "metadata": {},
     "output_type": "execute_result"
    }
   ],
   "source": [
    "dataset = imdb_copy[imdb_copy.genres.isin(good_genres)]\n",
    "data_wins = dataset[dataset.return_on_investment >= 2]\n",
    "dataset.genres.value_counts()"
   ]
  },
  {
   "cell_type": "code",
   "execution_count": 965,
   "id": "e16efd69",
   "metadata": {
    "ExecuteTime": {
     "end_time": "2021-06-09T22:28:16.714747Z",
     "start_time": "2021-06-09T22:28:16.689253Z"
    }
   },
   "outputs": [
    {
     "data": {
      "text/html": [
       "<div>\n",
       "<style scoped>\n",
       "    .dataframe tbody tr th:only-of-type {\n",
       "        vertical-align: middle;\n",
       "    }\n",
       "\n",
       "    .dataframe tbody tr th {\n",
       "        vertical-align: top;\n",
       "    }\n",
       "\n",
       "    .dataframe thead th {\n",
       "        text-align: right;\n",
       "    }\n",
       "</style>\n",
       "<table border=\"1\" class=\"dataframe\">\n",
       "  <thead>\n",
       "    <tr style=\"text-align: right;\">\n",
       "      <th></th>\n",
       "      <th>release_date</th>\n",
       "      <th>movie</th>\n",
       "      <th>production_budget</th>\n",
       "      <th>domestic_gross</th>\n",
       "      <th>worldwide_gross</th>\n",
       "      <th>genres</th>\n",
       "      <th>logged_budget</th>\n",
       "      <th>total_gross</th>\n",
       "      <th>net_profit</th>\n",
       "      <th>return_on_investment</th>\n",
       "      <th>date_month</th>\n",
       "      <th>date_year</th>\n",
       "    </tr>\n",
       "  </thead>\n",
       "  <tbody>\n",
       "    <tr>\n",
       "      <th>2551</th>\n",
       "      <td>2017-02-24</td>\n",
       "      <td>Get Out</td>\n",
       "      <td>5000000</td>\n",
       "      <td>176040665</td>\n",
       "      <td>255367951</td>\n",
       "      <td>Thriller</td>\n",
       "      <td>15.424948</td>\n",
       "      <td>431408616</td>\n",
       "      <td>426408616</td>\n",
       "      <td>86.281723</td>\n",
       "      <td>2</td>\n",
       "      <td>2017</td>\n",
       "    </tr>\n",
       "    <tr>\n",
       "      <th>2551</th>\n",
       "      <td>2017-02-24</td>\n",
       "      <td>Get Out</td>\n",
       "      <td>5000000</td>\n",
       "      <td>176040665</td>\n",
       "      <td>255367951</td>\n",
       "      <td>Horror</td>\n",
       "      <td>15.424948</td>\n",
       "      <td>431408616</td>\n",
       "      <td>426408616</td>\n",
       "      <td>86.281723</td>\n",
       "      <td>2</td>\n",
       "      <td>2017</td>\n",
       "    </tr>\n",
       "    <tr>\n",
       "      <th>2552</th>\n",
       "      <td>2017-01-20</td>\n",
       "      <td>Split</td>\n",
       "      <td>5000000</td>\n",
       "      <td>138141585</td>\n",
       "      <td>278964806</td>\n",
       "      <td>Action</td>\n",
       "      <td>15.424948</td>\n",
       "      <td>417106391</td>\n",
       "      <td>412106391</td>\n",
       "      <td>83.421278</td>\n",
       "      <td>1</td>\n",
       "      <td>2017</td>\n",
       "    </tr>\n",
       "    <tr>\n",
       "      <th>2553</th>\n",
       "      <td>2017-01-20</td>\n",
       "      <td>Split</td>\n",
       "      <td>5000000</td>\n",
       "      <td>138141585</td>\n",
       "      <td>278964806</td>\n",
       "      <td>Comedy</td>\n",
       "      <td>15.424948</td>\n",
       "      <td>417106391</td>\n",
       "      <td>412106391</td>\n",
       "      <td>83.421278</td>\n",
       "      <td>1</td>\n",
       "      <td>2017</td>\n",
       "    </tr>\n",
       "    <tr>\n",
       "      <th>2553</th>\n",
       "      <td>2017-01-20</td>\n",
       "      <td>Split</td>\n",
       "      <td>5000000</td>\n",
       "      <td>138141585</td>\n",
       "      <td>278964806</td>\n",
       "      <td>Romance</td>\n",
       "      <td>15.424948</td>\n",
       "      <td>417106391</td>\n",
       "      <td>412106391</td>\n",
       "      <td>83.421278</td>\n",
       "      <td>1</td>\n",
       "      <td>2017</td>\n",
       "    </tr>\n",
       "    <tr>\n",
       "      <th>...</th>\n",
       "      <td>...</td>\n",
       "      <td>...</td>\n",
       "      <td>...</td>\n",
       "      <td>...</td>\n",
       "      <td>...</td>\n",
       "      <td>...</td>\n",
       "      <td>...</td>\n",
       "      <td>...</td>\n",
       "      <td>...</td>\n",
       "      <td>...</td>\n",
       "      <td>...</td>\n",
       "      <td>...</td>\n",
       "    </tr>\n",
       "    <tr>\n",
       "      <th>1218</th>\n",
       "      <td>2013-01-18</td>\n",
       "      <td>The Last Stand</td>\n",
       "      <td>30000000</td>\n",
       "      <td>12050299</td>\n",
       "      <td>48330757</td>\n",
       "      <td>Thriller</td>\n",
       "      <td>17.216708</td>\n",
       "      <td>60381056</td>\n",
       "      <td>30381056</td>\n",
       "      <td>2.012702</td>\n",
       "      <td>1</td>\n",
       "      <td>2013</td>\n",
       "    </tr>\n",
       "    <tr>\n",
       "      <th>1218</th>\n",
       "      <td>2013-01-18</td>\n",
       "      <td>The Last Stand</td>\n",
       "      <td>30000000</td>\n",
       "      <td>12050299</td>\n",
       "      <td>48330757</td>\n",
       "      <td>Action</td>\n",
       "      <td>17.216708</td>\n",
       "      <td>60381056</td>\n",
       "      <td>30381056</td>\n",
       "      <td>2.012702</td>\n",
       "      <td>1</td>\n",
       "      <td>2013</td>\n",
       "    </tr>\n",
       "    <tr>\n",
       "      <th>2381</th>\n",
       "      <td>2015-06-12</td>\n",
       "      <td>Me and Earl and the Dying Girl</td>\n",
       "      <td>8000000</td>\n",
       "      <td>6758416</td>\n",
       "      <td>9266180</td>\n",
       "      <td>Comedy</td>\n",
       "      <td>15.894952</td>\n",
       "      <td>16024596</td>\n",
       "      <td>8024596</td>\n",
       "      <td>2.003074</td>\n",
       "      <td>6</td>\n",
       "      <td>2015</td>\n",
       "    </tr>\n",
       "    <tr>\n",
       "      <th>2381</th>\n",
       "      <td>2015-06-12</td>\n",
       "      <td>Me and Earl and the Dying Girl</td>\n",
       "      <td>8000000</td>\n",
       "      <td>6758416</td>\n",
       "      <td>9266180</td>\n",
       "      <td>Drama</td>\n",
       "      <td>15.894952</td>\n",
       "      <td>16024596</td>\n",
       "      <td>8024596</td>\n",
       "      <td>2.003074</td>\n",
       "      <td>6</td>\n",
       "      <td>2015</td>\n",
       "    </tr>\n",
       "    <tr>\n",
       "      <th>2381</th>\n",
       "      <td>2015-06-12</td>\n",
       "      <td>Me and Earl and the Dying Girl</td>\n",
       "      <td>8000000</td>\n",
       "      <td>6758416</td>\n",
       "      <td>9266180</td>\n",
       "      <td>Romance</td>\n",
       "      <td>15.894952</td>\n",
       "      <td>16024596</td>\n",
       "      <td>8024596</td>\n",
       "      <td>2.003074</td>\n",
       "      <td>6</td>\n",
       "      <td>2015</td>\n",
       "    </tr>\n",
       "  </tbody>\n",
       "</table>\n",
       "<p>1125 rows × 12 columns</p>\n",
       "</div>"
      ],
      "text/plain": [
       "     release_date                           movie  production_budget  \\\n",
       "2551   2017-02-24                         Get Out            5000000   \n",
       "2551   2017-02-24                         Get Out            5000000   \n",
       "2552   2017-01-20                           Split            5000000   \n",
       "2553   2017-01-20                           Split            5000000   \n",
       "2553   2017-01-20                           Split            5000000   \n",
       "...           ...                             ...                ...   \n",
       "1218   2013-01-18                  The Last Stand           30000000   \n",
       "1218   2013-01-18                  The Last Stand           30000000   \n",
       "2381   2015-06-12  Me and Earl and the Dying Girl            8000000   \n",
       "2381   2015-06-12  Me and Earl and the Dying Girl            8000000   \n",
       "2381   2015-06-12  Me and Earl and the Dying Girl            8000000   \n",
       "\n",
       "      domestic_gross  worldwide_gross    genres  logged_budget  total_gross  \\\n",
       "2551       176040665        255367951  Thriller      15.424948    431408616   \n",
       "2551       176040665        255367951    Horror      15.424948    431408616   \n",
       "2552       138141585        278964806    Action      15.424948    417106391   \n",
       "2553       138141585        278964806    Comedy      15.424948    417106391   \n",
       "2553       138141585        278964806   Romance      15.424948    417106391   \n",
       "...              ...              ...       ...            ...          ...   \n",
       "1218        12050299         48330757  Thriller      17.216708     60381056   \n",
       "1218        12050299         48330757    Action      17.216708     60381056   \n",
       "2381         6758416          9266180    Comedy      15.894952     16024596   \n",
       "2381         6758416          9266180     Drama      15.894952     16024596   \n",
       "2381         6758416          9266180   Romance      15.894952     16024596   \n",
       "\n",
       "      net_profit  return_on_investment  date_month  date_year  \n",
       "2551   426408616             86.281723           2       2017  \n",
       "2551   426408616             86.281723           2       2017  \n",
       "2552   412106391             83.421278           1       2017  \n",
       "2553   412106391             83.421278           1       2017  \n",
       "2553   412106391             83.421278           1       2017  \n",
       "...          ...                   ...         ...        ...  \n",
       "1218    30381056              2.012702           1       2013  \n",
       "1218    30381056              2.012702           1       2013  \n",
       "2381     8024596              2.003074           6       2015  \n",
       "2381     8024596              2.003074           6       2015  \n",
       "2381     8024596              2.003074           6       2015  \n",
       "\n",
       "[1125 rows x 12 columns]"
      ]
     },
     "execution_count": 965,
     "metadata": {},
     "output_type": "execute_result"
    }
   ],
   "source": [
    "data_wins.sort_values(by='return_on_investment', ascending=False)"
   ]
  },
  {
   "cell_type": "code",
   "execution_count": 960,
   "id": "10122c73",
   "metadata": {
    "ExecuteTime": {
     "end_time": "2021-06-09T22:27:11.113820Z",
     "start_time": "2021-06-09T22:27:10.889219Z"
    }
   },
   "outputs": [
    {
     "data": {
      "image/png": "[encoded data removed]",
      "text/plain": [
       "<Figure size 1080x720 with 1 Axes>"
      ]
     },
     "metadata": {},
     "output_type": "display_data"
    }
   ],
   "source": [
    "fig, ax = plt.subplots(figsize=(15,10))\n",
    "sns.set_theme(style=\"whitegrid\")\n",
    "\n",
    "#dataset = imdb_winners\n",
    "\n",
    "ax = sns.boxplot(x=data_wins.genres, y=\"return_on_investment\", data=data_wins)"
   ]
  },
  {
   "cell_type": "code",
   "execution_count": 966,
   "id": "1c46114a",
   "metadata": {
    "ExecuteTime": {
     "end_time": "2021-06-09T22:31:49.971880Z",
     "start_time": "2021-06-09T22:31:49.719885Z"
    }
   },
   "outputs": [
    {
     "name": "stdout",
     "output_type": "stream",
     "text": [
      "<class 'pandas.core.frame.DataFrame'>\n",
      "Int64Index: 12 entries, 1 to 12\n",
      "Data columns (total 8 columns):\n",
      " #   Column     Non-Null Count  Dtype  \n",
      "---  ------     --------------  -----  \n",
      " 0   Action     12 non-null     float64\n",
      " 1   Biography  12 non-null     float64\n",
      " 2   Comedy     12 non-null     float64\n",
      " 3   Crime      12 non-null     float64\n",
      " 4   Drama      12 non-null     float64\n",
      " 5   Horror     12 non-null     float64\n",
      " 6   Romance    12 non-null     float64\n",
      " 7   Thriller   12 non-null     float64\n",
      "dtypes: float64(8)\n",
      "memory usage: 864.0 bytes\n"
     ]
    },
    {
     "data": {
      "text/plain": [
       "<AxesSubplot:xlabel='date_month'>"
      ]
     },
     "execution_count": 966,
     "metadata": {},
     "output_type": "execute_result"
    },
    {
     "data": {
      "image/png": "[encoded data removed]",
      "text/plain": [
       "<Figure size 1080x432 with 1 Axes>"
      ]
     },
     "metadata": {},
     "output_type": "display_data"
    }
   ],
   "source": [
    "plot_table = dataset.groupby(['genres', 'date_month']).mean().reset_index().pivot(index='date_month', columns='genres', values='net_profit')\n",
    "plot_table.info()\n",
    "\n",
    "plot_table.plot(figsize = (15,6))"
   ]
  },
  {
   "cell_type": "code",
   "execution_count": null,
   "id": "91b6aa07",
   "metadata": {},
   "outputs": [],
   "source": []
  },
  {
   "cell_type": "code",
   "execution_count": 880,
   "id": "b53e1887",
   "metadata": {
    "ExecuteTime": {
     "end_time": "2021-06-09T22:06:53.283387Z",
     "start_time": "2021-06-09T22:06:53.267851Z"
    }
   },
   "outputs": [],
   "source": [
    "df.groupby('production_budget')\n",
    "\n",
    "bud_bins = pd.cut(df['production_budget'], [1000000, 5000000, 10000000, 15000000, 20000000, 50000000, 100000000, 200000000, 400000000])\n",
    "grouped_bins =  df.groupby(bud_bins)['production_budget'].agg(['count'])\n",
    "df['budget_bins'] = bud_bins\n",
    "bins = df.budget_bins.unique()[1:]\n",
    "bins = df.budget_bins.unique()[1:]"
   ]
  },
  {
   "cell_type": "code",
   "execution_count": 881,
   "id": "f4afa6dd",
   "metadata": {
    "ExecuteTime": {
     "end_time": "2021-06-09T22:06:53.864096Z",
     "start_time": "2021-06-09T22:06:53.833254Z"
    }
   },
   "outputs": [],
   "source": [
    "df.groupby('production_budget')\n",
    "\n",
    "bud_bins = pd.cut(df['production_budget'], [1000000, 5000000, 10000000, 15000000, 20000000, 50000000, 100000000, 200000000, 400000000])\n",
    "grouped_bins =  df.groupby(bud_bins)['production_budget'].agg(['count'])\n",
    "df['budget_bins'] = bud_bins\n",
    "bins = df.budget_bins.unique()[1:]\n",
    "\n",
    "\n",
    "\n",
    "probabilitiesj = {}\n",
    "for bin_ in bins:\n",
    "    frame = df[(df.budget_bins == bin_) & (df.return_on_investment >= 2)]\n",
    "    total_in_budget_bin = grouped_bins.loc[bin_]['count']\n",
    "    number_with_high_ri = frame.shape[0]\n",
    "    probabilityj = number_with_high_ri/total_in_budget_bin\n",
    "    probabilitiesj[bin_] = probabilityj\n",
    "probabilitiesj = dict(sorted(probabilitiesj.items(), key=lambda x: x[0]))"
   ]
  },
  {
   "cell_type": "code",
   "execution_count": 882,
   "id": "3097c7d7",
   "metadata": {
    "ExecuteTime": {
     "end_time": "2021-06-09T22:06:54.589020Z",
     "start_time": "2021-06-09T22:06:54.405449Z"
    }
   },
   "outputs": [
    {
     "data": {
      "text/plain": [
       "Text(0, 0.5, 'probability that a film recoups its production and marketing budget')"
      ]
     },
     "execution_count": 882,
     "metadata": {},
     "output_type": "execute_result"
    },
    {
     "data": {
      "image/png": "[encoded data removed]",
      "text/plain": [
       "<Figure size 1080x432 with 1 Axes>"
      ]
     },
     "metadata": {},
     "output_type": "display_data"
    }
   ],
   "source": [
    "fig, ax = plt.subplots(figsize=(15,6))\n",
    "ax.bar([f'{_.left}\\nto\\n{_.right}' for _ in probabilitiesj], probabilitiesj.values(), color='dodgerblue', alpha=.8)\n",
    "ax.set_xlabel('budget in dollars')\n",
    "ax.set_ylabel('probability that a film recoups its production and marketing budget')"
   ]
  },
  {
   "cell_type": "code",
   "execution_count": 883,
   "id": "71835169",
   "metadata": {
    "ExecuteTime": {
     "end_time": "2021-06-09T22:06:54.833948Z",
     "start_time": "2021-06-09T22:06:54.819273Z"
    }
   },
   "outputs": [],
   "source": [
    "df.groupby('production_budget')\n",
    "\n",
    "bud_bins = pd.cut(df['production_budget'], [1000000, 5000000, 10000000, 15000000, 20000000, 50000000, 100000000, 200000000, 400000000])\n",
    "grouped_bins =  df.groupby(bud_bins)['production_budget'].agg(['count'])\n",
    "df['budget_bins'] = bud_bins"
   ]
  },
  {
   "cell_type": "code",
   "execution_count": 884,
   "id": "541df332",
   "metadata": {
    "ExecuteTime": {
     "end_time": "2021-06-09T22:06:55.220713Z",
     "start_time": "2021-06-09T22:06:55.216548Z"
    }
   },
   "outputs": [],
   "source": [
    "def probability(bins, num):\n",
    "    probabilities = {}\n",
    "    for bin_ in bins:\n",
    "        frame = df[(df.budget_bins == bin_) & (df.return_on_investment >= num)]\n",
    "        total_in_budget_bin = grouped_bins.loc[bin_]['count']\n",
    "        number_with_high_ri = frame.shape[0]\n",
    "        probability = number_with_high_ri/total_in_budget_bin\n",
    "        probabilities[bin_] = probability\n",
    "    probabilities = dict(sorted(probabilities.items(), key=lambda x: x[0]))\n",
    "    return probabilities"
   ]
  },
  {
   "cell_type": "code",
   "execution_count": 885,
   "id": "9fde4e08",
   "metadata": {
    "ExecuteTime": {
     "end_time": "2021-06-09T22:06:55.627214Z",
     "start_time": "2021-06-09T22:06:55.568421Z"
    }
   },
   "outputs": [],
   "source": [
    "probabilities = probability(bins, 2)\n",
    "probabilities5 = probability(bins, 5)\n",
    "probabilities7 = probability(bins, 7)\n",
    "probabilities10 = probability(bins, 10)"
   ]
  },
  {
   "cell_type": "code",
   "execution_count": 899,
   "id": "e0977fb1",
   "metadata": {
    "ExecuteTime": {
     "end_time": "2021-06-09T22:10:31.432576Z",
     "start_time": "2021-06-09T22:10:30.940395Z"
    }
   },
   "outputs": [
    {
     "data": {
      "text/plain": [
       "(0.0, 0.9)"
      ]
     },
     "execution_count": 899,
     "metadata": {},
     "output_type": "execute_result"
    },
    {
     "data": {
      "image/png": "[encoded data removed]",
      "text/plain": [
       "<Figure size 1224x936 with 4 Axes>"
      ]
     },
     "metadata": {},
     "output_type": "display_data"
    }
   ],
   "source": [
    "fig, ax = plt.subplots(2, 2, figsize=(17,13))\n",
    "plt.ylim(.01,.9)\n",
    "ax[0,0].bar([f'{_.left}\\nto\\n{_.right}' for _ in probabilities], probabilities.values(), color='orange', alpha=.8)\n",
    "ax[0,0].set_ylim(.00,.9)\n",
    "ax[0,1].bar([f'{_.left}\\nto\\n{_.right}' for _ in probabilities5], probabilities5.values(), color='r', alpha=.8)\n",
    "ax[0,1].set_ylim(.00,.9)\n",
    "ax[1,0].bar([f'{_.left}\\nto\\n{_.right}' for _ in probabilities7], probabilities7.values(), color='b', alpha=.8)\n",
    "ax[1,0].set_ylim(.00,.9)\n",
    "ax[1,1].bar([f'{_.left}\\nto\\n{_.right}' for _ in probabilities10], probabilities10.values(), color='g', alpha=.8)\n",
    "ax[1,1].set_ylim(.00,.9)"
   ]
  },
  {
   "cell_type": "code",
   "execution_count": null,
   "id": "c288bb32",
   "metadata": {},
   "outputs": [],
   "source": []
  }
 ],
 "metadata": {
  "kernelspec": {
   "display_name": "learn-env",
   "language": "python",
   "name": "learn-env"
  },
  "language_info": {
   "codemirror_mode": {
    "name": "ipython",
    "version": 3
   },
   "file_extension": ".py",
   "mimetype": "text/x-python",
   "name": "python",
   "nbconvert_exporter": "python",
   "pygments_lexer": "ipython3",
   "version": "3.8.5"
  }
 },
 "nbformat": 4,
 "nbformat_minor": 5
}
